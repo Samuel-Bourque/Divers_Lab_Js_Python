{
 "cells": [
  {
   "cell_type": "markdown",
   "metadata": {},
   "source": [
    "Before you turn this problem in, make sure everything runs as expected. First, **restart the kernel** (in the menubar, select Kernel$\\rightarrow$Restart) and then **run all cells** (in the menubar, select Cell$\\rightarrow$Run All).\n",
    "\n",
    "Make sure you fill in any place that says `YOUR CODE HERE` or \"YOUR ANSWER HERE\", as well as your name and collaborators below:"
   ]
  },
  {
   "cell_type": "code",
   "execution_count": null,
   "metadata": {},
   "outputs": [],
   "source": [
    "NAME = \"Samuel Bourque\"\n",
    "COLLABORATORS = \"...\""
   ]
  },
  {
   "cell_type": "markdown",
   "metadata": {},
   "source": [
    "---"
   ]
  },
  {
   "cell_type": "markdown",
   "metadata": {},
   "source": [
    "###### <img style='margin-right:0' src=\"http://dinfo.ca/logoDptInfo.jpg\" width=300>\n",
    "\n",
    "# Laboratoire #17 (Python)\n",
    "---"
   ]
  },
  {
   "cell_type": "markdown",
   "metadata": {
    "collapsed": true,
    "deletable": false,
    "editable": false,
    "nbgrader": {
     "checksum": "afab35566c50c4adaa38532a6eda25be",
     "grade": false,
     "grade_id": "q1-enonce",
     "locked": true,
     "schema_version": 1,
     "solution": false
    }
   },
   "source": [
    "---\n",
    "#### Question #1 (1 point) \n",
    "\n",
    "On a trois (3) tentatives pour désamorcer une bombe.  Si après la troisième tentative nous n'avons toujours pas coupé le bon fil, un message \"BOOM!\" est affiché.\n",
    "\n",
    "Vous devez utiliser le `else` de la boucle `for` afin d'afficher le message.  Si vous trouvez la bonne couleur de fil, vous devez quitter la boucle.\n",
    "\n",
    "**Résultats attendus (explosion)**:\n",
    "\n",
    "```\n",
    "Entrez une couleur (essai #1 de 3):blanc\n",
    "Entrez une couleur (essai #2 de 3):rouge\n",
    "Entrez une couleur (essai #3 de 3):bleu\n",
    "BOOM\n",
    "```\n",
    "\n",
    "**Résultats attendus (couleur trouvée)**:\n",
    "\n",
    "```\n",
    "Entrez une couleur (essai #1 de 3):vert\n",
    "Entrez une couleur (essai #2 de 3):jaune\n",
    "Bravo!\n",
    "```"
   ]
  },
  {
   "cell_type": "code",
   "execution_count": null,
   "metadata": {
    "deletable": false,
    "nbgrader": {
     "checksum": "c1389b8647d29d228be94e37775afbbc",
     "grade": true,
     "grade_id": "q1-reponse",
     "locked": false,
     "points": 1,
     "schema_version": 1,
     "solution": true
    }
   },
   "outputs": [],
   "source": [
    "import random\n",
    "couleurs = ['blanc','rouge','bleu','vert','jaune','noir']\n",
    "couleurATrouver = random.choice(couleurs)\n",
    "# your code here for in range\n",
    "raise NotImplementedError"
   ]
  },
  {
   "cell_type": "markdown",
   "metadata": {
    "collapsed": true,
    "deletable": false,
    "editable": false,
    "nbgrader": {
     "checksum": "3102943795ef90e17db7c38942de6fbf",
     "grade": false,
     "grade_id": "q2-enonce",
     "locked": true,
     "schema_version": 1,
     "solution": false
    }
   },
   "source": [
    "---\n",
    "#### Question #2 (1 point)\n",
    "\n",
    "On veut entrer les notes d'étudiants afin d'en calculer la moyenne.  \n",
    "\n",
    "Utilisez un `while` pour répéter la saisie des valeurs jusqu'à ce qu'on entre -1.\n",
    "\n",
    "**Résultats attendus**:\n",
    "\n",
    "```\n",
    "Entrez une note (-1 pour terminer): 10\n",
    "Entrez une note (-1 pour terminer): 8\n",
    "Entrez une note (-1 pour terminer): -1\n",
    "Moyenne: 9.00\n",
    "```"
   ]
  },
  {
   "cell_type": "code",
   "execution_count": null,
   "metadata": {
    "deletable": false,
    "nbgrader": {
     "checksum": "d202050e68a9767b923ab5d05e94a8fa",
     "grade": true,
     "grade_id": "q2-reponse",
     "locked": false,
     "points": 1,
     "schema_version": 1,
     "solution": true
    }
   },
   "outputs": [],
   "source": [
    "total = 0\n",
    "nbNotes = 0\n",
    "uneNote = float(input('Entrez une note (-1 pour terminer): '))\n",
    "# your code here\n",
    "raise NotImplementedError"
   ]
  },
  {
   "cell_type": "markdown",
   "metadata": {
    "deletable": false,
    "editable": false,
    "nbgrader": {
     "checksum": "73b948db99a29c4b7fe555e6e774f9a0",
     "grade": false,
     "grade_id": "q3-enonce",
     "locked": true,
     "schema_version": 1,
     "solution": false
    }
   },
   "source": [
    "---\n",
    "#### Question #3 (2 points)\n",
    "\n",
    "Pour le code Python suivant, remplacez les conditions `truthy/falsy` par des conditions booléennes.  \n",
    "\n",
    "Aussi, certaines conditions utilisent des `== True` ou `== False`; vous devez les transformer afin de ne pas comparer avec un vrai ou faux.\n",
    "\n",
    "Finalement, les dernières opérations concernent des conditions composées (ET logique ou OU logique)."
   ]
  },
  {
   "cell_type": "code",
   "execution_count": null,
   "metadata": {
    "deletable": false,
    "nbgrader": {
     "checksum": "c98dcf508fb5b880e94af3e2c3f87484",
     "grade": true,
     "grade_id": "q3-reponseA",
     "locked": false,
     "points": 0.3,
     "schema_version": 1,
     "solution": true
    }
   },
   "outputs": [],
   "source": [
    "print(\"Problème #1\")\n",
    "valeurs = ['Soupe', 'Salade','Plat principal', 'Dessert']\n",
    "# your code here\n",
    "raise NotImplementedError\n",
    "while valeurs:\n",
    "    print(valeurs.pop(0))"
   ]
  },
  {
   "cell_type": "code",
   "execution_count": null,
   "metadata": {
    "deletable": false,
    "nbgrader": {
     "checksum": "f4c51b1242002460db39a41c03983d98",
     "grade": true,
     "grade_id": "q3-reponseB",
     "locked": false,
     "points": 0.3,
     "schema_version": 1,
     "solution": true
    }
   },
   "outputs": [],
   "source": [
    "print(\"\\nProblème #2\")\n",
    "numerateur = 10\n",
    "denominateur = 0\n",
    "# your code here\n",
    "raise NotImplementedError\n",
    "if denominateur:\n",
    "    print(numerateur / denominateur)\n",
    "else:\n",
    "    print('Division par zéro')"
   ]
  },
  {
   "cell_type": "code",
   "execution_count": null,
   "metadata": {
    "deletable": false,
    "nbgrader": {
     "checksum": "0a68b6de3a6c8c29e316e6b4c895cb13",
     "grade": true,
     "grade_id": "q3-reponseC",
     "locked": false,
     "points": 0.3,
     "schema_version": 1,
     "solution": true
    }
   },
   "outputs": [],
   "source": [
    "print(\"\\nProblème #3\")\n",
    "nom = input('Entrez votre nom: ')\n",
    "# your code here\n",
    "raise NotImplementedError\n",
    "if nom:\n",
    "    print(\"merci\", nom)\n",
    "else:\n",
    "    print(\"vous n'avez pas entré votre nom\")\n",
    "    "
   ]
  },
  {
   "cell_type": "code",
   "execution_count": null,
   "metadata": {
    "deletable": false,
    "nbgrader": {
     "checksum": "80ed3693c3407a8b0820bb77d50e9194",
     "grade": true,
     "grade_id": "q3-reponseD",
     "locked": false,
     "points": 0.3,
     "schema_version": 1,
     "solution": true
    }
   },
   "outputs": [],
   "source": [
    "print(\"\\nProblème #4\")\n",
    "couleur = input('Entrez une couleur: ').lower()\n",
    "trouve = couleur in ['blanc','rouge','bleu','vert','jaune','noir']\n",
    "# your code here\n",
    "raise NotImplementedError\n",
    "if trouve == True:\n",
    "    print(\"Nous avons cette couleur\")\n",
    "else:\n",
    "    print(\"On ne possède pas cette couleur\")"
   ]
  },
  {
   "cell_type": "code",
   "execution_count": null,
   "metadata": {
    "deletable": false,
    "nbgrader": {
     "checksum": "83736b7240153deb4c39f7dc5212f25b",
     "grade": true,
     "grade_id": "q3-reponseE",
     "locked": false,
     "points": 0.3,
     "schema_version": 1,
     "solution": true
    }
   },
   "outputs": [],
   "source": [
    "print(\"\\nProblème #5\")\n",
    "prixTotal = 18.00\n",
    "argentComptant = 15.00\n",
    "assezArgent = argentComptant >= prixTotal\n",
    "# your code here\n",
    "raise NotImplementedError\n",
    "if assezArgent == False:\n",
    "    print(\"Désolé, vous n'avez pas assez d'argent pour cet achat\")\n",
    "else:\n",
    "    print(\"Il vous revient %.2f$\" % (argentComptant - prixTotal))\n",
    "    "
   ]
  },
  {
   "cell_type": "code",
   "execution_count": null,
   "metadata": {
    "deletable": false,
    "nbgrader": {
     "checksum": "3ae476c8c61b4ded71f109068987e559",
     "grade": true,
     "grade_id": "q3-reponseF",
     "locked": false,
     "points": 0.3,
     "schema_version": 1,
     "solution": true
    }
   },
   "outputs": [],
   "source": [
    "print(\"\\nProblème #6\")\n",
    "destinations = { \n",
    "    'Miami'          : ('chaud',850),\n",
    "    'Moscou'         : ('froid', 2000),\n",
    "    'La Havane'      : ('chaud',650),\n",
    "    'Anchorage'      : ('froid', 1600),\n",
    "    'Rio De Janeiro' : ('chaud',1100)\n",
    "}\n",
    "typeDestination = 'chaud'\n",
    "plafondMonetaire = 1000\n",
    "print(\"Critères: pays %s, plafond: %.2f$\" % (typeDestination, plafondMonetaire))\n",
    "for ville, specs in destinations.items():\n",
    "# your code here\n",
    "raise NotImplementedError\n",
    "    # Remplacez par une condition composée: \n",
    "    #   doit correspondre au type de destination, \n",
    "    #   le prix ne doit pas dépasser le plafond monétaire\n",
    "    if True:\n",
    "        print('\\tVille: %s (prix: %.2f$)' % (ville, specs[1]))\n",
    "        "
   ]
  },
  {
   "cell_type": "code",
   "execution_count": null,
   "metadata": {
    "deletable": false,
    "nbgrader": {
     "checksum": "56c2e64313999ed5df89787aed009524",
     "grade": true,
     "grade_id": "q3-reponseG",
     "locked": false,
     "points": 0.2,
     "schema_version": 1,
     "solution": true
    }
   },
   "outputs": [],
   "source": [
    "print(\"\\nProblème #7\")\n",
    "# Remplacez par une condition composée\n",
    "# Doit respecter une des trois conditions\n",
    "import random\n",
    "experienceProgrammation = random.choice([True, False])\n",
    "complete2Z6 = random.choice([True, False])\n",
    "connaitMarco = random.choice([True, False])\n",
    "print(\"Caractéristiques: %s %s %s\" % (experienceProgrammation, complete2Z6, connaitMarco))\n",
    "# your code here\n",
    "raise NotImplementedError\n",
    "if True:\n",
    "    print('Vous avez le job!')\n",
    "else:\n",
    "    print('Votre candidature est rejetée')"
   ]
  },
  {
   "cell_type": "markdown",
   "metadata": {
    "deletable": false,
    "editable": false,
    "nbgrader": {
     "checksum": "5a11c7ceaedd6fbf5e8d71ea18b6ca53",
     "grade": false,
     "grade_id": "q4-enonce",
     "locked": true,
     "schema_version": 1,
     "solution": false
    }
   },
   "source": [
    "---\n",
    "#### Question #4 (2 points)\n",
    "\n",
    "En JavaScript, on écrirait l'énoncé suivant:\n",
    "\n",
    "```javascript\n",
    "var items = [['lait',2.00], ['poisson',6.00],['chips',3.00],['lasagne',10.00],['pain',2.00]];\n",
    "var produitsSansTaxe = ['lait','viande','oeufs','céréales', 'pain', 'poisson'];\n",
    "var total = 0.00;\n",
    "items.forEach( (unItem) => {\n",
    "  var taxes = produitsSansTaxe.includes(unItem[0]) ? 0.00 : 0.14975;\n",
    "  total += unItem[1] * (1 + taxes)\n",
    "});\n",
    "console.log('Total: $' + total.toFixed(2));\n",
    "```\n",
    "\n",
    "Votre mandat est de convertir le code JavaScript en code Python; l'opérateur ternaire doit être converti à son équivalent Python.\n",
    "\n",
    "**Résultat attendu:**\n",
    "\n",
    "```\n",
    "Total: $24.95\n",
    "```"
   ]
  },
  {
   "cell_type": "code",
   "execution_count": null,
   "metadata": {
    "deletable": false,
    "nbgrader": {
     "checksum": "888a12fbf1a3d59ca6391ebd2456057b",
     "grade": true,
     "grade_id": "q4-reponse",
     "locked": false,
     "points": 2,
     "schema_version": 1,
     "solution": true
    }
   },
   "outputs": [],
   "source": [
    "# your code here\n",
    "raise NotImplementedError"
   ]
  }
 ],
 "metadata": {
  "kernelspec": {
   "display_name": "Python 3",
   "language": "python",
   "name": "python3"
  },
  "language_info": {
   "codemirror_mode": {
    "name": "ipython",
    "version": 3
   },
   "file_extension": ".py",
   "mimetype": "text/x-python",
   "name": "python",
   "nbconvert_exporter": "python",
   "pygments_lexer": "ipython3",
   "version": "3.5.2"
  }
 },
 "nbformat": 4,
 "nbformat_minor": 2
}
