{
  "cells": [
    {
      "cell_type": "markdown",
      "source": [
        "Before you turn this problem in, make sure everything runs as expected. First, **restart the kernel** (in the menubar, select Kernel$\\rightarrow$Restart) and then **run all cells** (in the menubar, select Cell$\\rightarrow$Run All).\n",
        "\nMake sure you fill in any place that says `YOUR CODE HERE` or \"YOUR ANSWER HERE\", as well as your name and collaborators below:"
      ],
      "metadata": {}
    },
    {
      "cell_type": "code",
      "source": [
        "NAME = \"Samuel Bourque\"\n",
        "COLLABORATORS = \"...\""
      ],
      "outputs": [],
      "execution_count": null,
      "metadata": {}
    },
    {
      "cell_type": "markdown",
      "source": [
        "---"
      ],
      "metadata": {}
    },
    {
      "cell_type": "markdown",
      "source": [
        "<img style='margin-right:0' src=\"http://dinfo.ca/logoDptInfo.jpg\" width=300>\n",
        "\n",
        "# Laboratoire #3\n",
        "---"
      ],
      "metadata": {}
    },
    {
      "cell_type": "markdown",
      "source": [
        "---\n",
        "#### Question #1 (1 point)\n",
        "On souhaite une fonction `determinerMotPlusLong(premierMot, secondMot)` qui déterminer, parmis deux mots fournis en paramètre, celui qui est le plus long des deux.  La fonction **retournera la chaîne de caractères** correspondant à ce mot.\n",
        "\nSi les deux mots sont de même longueur, on retourne le premier mot."
      ],
      "metadata": {
        "collapsed": true,
        "deletable": false,
        "editable": false,
        "nbgrader": {
          "checksum": "4b74c7be011b31e87a5e3f32bf609cbd",
          "grade": false,
          "grade_id": "cell-9fc1028aa78665b1",
          "locked": true,
          "schema_version": 1,
          "solution": false
        }
      }
    },
    {
      "cell_type": "code",
      "source": [
        "def determinerMotPlusLong(premierMot, secondMot):\n",
        "    if len(premierMot) > len(secondMot):\n",
        "        retourMot = premierMot\n",
        "    elif len(premierMot) == len(secondMot):\n",
        "        retourMot = premierMot\n",
        "    else:\n",
        "        retourMot = secondMot\n",
        "    return retourMot"
      ],
      "outputs": [],
      "execution_count": 1,
      "metadata": {
        "deletable": false,
        "nbgrader": {
          "checksum": "608d379973b64f36dc1dbb10a984c014",
          "grade": false,
          "grade_id": "q1-code",
          "locked": false,
          "schema_version": 1,
          "solution": true
        }
      }
    },
    {
      "cell_type": "code",
      "source": [
        "# Validations\n",
        "assert determinerMotPlusLong('copain', 'ami') == 'copain'\n",
        "assert determinerMotPlusLong('pair', 'impair') == 'impair'\n",
        "assert determinerMotPlusLong('octet', 'linux') == 'octet'\n",
        "assert determinerMotPlusLong('linux', 'octet') == 'linux'"
      ],
      "outputs": [],
      "execution_count": 2,
      "metadata": {
        "deletable": false,
        "editable": false,
        "nbgrader": {
          "checksum": "67b8b31e7b2f2c15335ebb2b239e724c",
          "grade": true,
          "grade_id": "q1-tests",
          "locked": true,
          "points": 1,
          "schema_version": 1,
          "solution": false
        }
      }
    },
    {
      "cell_type": "markdown",
      "source": [
        "---\n",
        "#### Question #2 (1 point)\n",
        "\n",
        "Le titre d'une personne (ou titre de civilité) permet d'identifier si on s'adresse à un homme ou une femme.  \n",
        "\n",
        "Par exemple:\n",
        "\n",
        "- Monsieur Kim Jong-un\n",
        "- Madame Kim Kardashian\n",
        "\n",
        "Définissez une fonction `determinerCodeSexe(titre)` qui permet de retourner \"H\" si le titre débute par \"Monsieur\" ou \"F\" si le titre débute par \"Madame\".\n",
        "\nLorsque le titre ne débute par ni l'un, ni l'autre, il faut retourner \"?\"."
      ],
      "metadata": {
        "collapsed": true,
        "deletable": false,
        "editable": false,
        "nbgrader": {
          "checksum": "484b4457c762fb4496e428ac4a0771fa",
          "grade": false,
          "grade_id": "cell-2b2f135fead87d85",
          "locked": true,
          "schema_version": 1,
          "solution": false
        }
      }
    },
    {
      "cell_type": "code",
      "source": [
        "def determinerCodeSexe(titre):\n",
        "    if titre.startswith(\"Monsieur\"):\n",
        "        codeSexe = 'H'\n",
        "    elif titre.startswith(\"Madame\"):\n",
        "        codeSexe = 'F'\n",
        "    else:\n",
        "        codeSexe = '?'\n",
        "    return codeSexe"
      ],
      "outputs": [],
      "execution_count": 3,
      "metadata": {
        "deletable": false,
        "nbgrader": {
          "checksum": "59de5b706563aabfe9065d45ab9eee5d",
          "grade": false,
          "grade_id": "q2-code",
          "locked": false,
          "schema_version": 1,
          "solution": true
        }
      }
    },
    {
      "cell_type": "code",
      "source": [
        "# Validations\n",
        "assert determinerCodeSexe('Monsieur Kim Jong-un') == 'H'\n",
        "assert determinerCodeSexe('Madame Kim Kardashian') == 'F'\n",
        "assert determinerCodeSexe('Camarade Sasha Comanechi') == '?' "
      ],
      "outputs": [],
      "execution_count": 4,
      "metadata": {
        "deletable": false,
        "editable": false,
        "nbgrader": {
          "checksum": "c8abc0bc857706b999bc1e6c8a4028cb",
          "grade": true,
          "grade_id": "q2-tests",
          "locked": true,
          "points": 1,
          "schema_version": 1,
          "solution": false
        }
      }
    },
    {
      "cell_type": "markdown",
      "source": [
        "---\n",
        "#### Question #3 (1 point)\n",
        "\n",
        "On souhaite disposer d'une fonction `compterVoyelles(mot)` qui retourne un nombre entier représentant le nombre de voyelles dans le mot.\n",
        "\n",
        "Les voyelles sont 'a', 'e', 'i', 'o', 'u' et 'y'.  \n",
        "\n",
        "> On ne considère pas les lettres accentuées.<br>\n",
        "  Les lettres peuvent être en majuscule ou en minuscule\n",
        "\n",
        "**Stratégie recommandée:**\n",
        "\n",
        "- Compter le nombre de 'a' du mot et placer dans une variable\n",
        "- Additionner à cette variable le nombre de 'e' du mot \n",
        "- Faire de même pour les autres voyelles\n"
      ],
      "metadata": {
        "collapsed": true,
        "deletable": false,
        "editable": false,
        "nbgrader": {
          "checksum": "61225d4659951b936fa0866e6acb21db",
          "grade": false,
          "grade_id": "q3-enonce",
          "locked": true,
          "schema_version": 1,
          "solution": false
        }
      }
    },
    {
      "cell_type": "code",
      "source": [
        "def compterVoyelles(mot):\n",
        "    motMinuscule = mot.lower()\n",
        "    compteur = motMinuscule.count('a')\n",
        "    compteur += motMinuscule.count('e')\n",
        "    compteur += motMinuscule.count('i')\n",
        "    compteur += motMinuscule.count('o')\n",
        "    compteur += motMinuscule.count('u')\n",
        "    compteur += motMinuscule.count('y')\n",
        "    return compteur"
      ],
      "outputs": [],
      "execution_count": 5,
      "metadata": {
        "deletable": false,
        "nbgrader": {
          "checksum": "9e40dba349ab4847dadf8bd7da2d350f",
          "grade": false,
          "grade_id": "q3-code",
          "locked": false,
          "schema_version": 1,
          "solution": true
        }
      }
    },
    {
      "cell_type": "code",
      "source": [
        "# Validations\n",
        "assert compterVoyelles('Yo-yo') == 4\n",
        "assert compterVoyelles('Anticonstitutionnellement') == 10\n",
        "assert compterVoyelles('aardvark') == 3\n",
        "assert compterVoyelles('IRIS') == 2\n",
        "assert compterVoyelles('galeries') == 4\n",
        "assert compterVoyelles('ouistiti') == 5\n",
        "assert compterVoyelles('oiseau') == 5\n",
        "assert compterVoyelles('BRRR') == 0"
      ],
      "outputs": [],
      "execution_count": 6,
      "metadata": {
        "deletable": false,
        "editable": false,
        "nbgrader": {
          "checksum": "60973297b1e7deb603bf46c12906743b",
          "grade": true,
          "grade_id": "q3-tests",
          "locked": true,
          "points": 1,
          "schema_version": 1,
          "solution": false
        }
      }
    },
    {
      "cell_type": "markdown",
      "source": [
        "---\n",
        "#### Question #4 (1 point)\n",
        "\n",
        "Déclarez une fonction `trouverLettreAlphabet(position)` qui retourne la lettre de l'alphabet (majuscule) qui correspond à la position demandée (entre 1 et 26).\n",
        "\n",
        "> Considérez que la position qui sera fournie ne peut être en dehors de la plage (1 à 26).\n",
        "\n",
        "**Stratégie recommandée:**\n",
        "\nÀ l'intérieur de la fonction, composez une chaîne de caractères pour toutes les lettres de l'alphabet (dans l'ordre).  Ensuite, recherchez le caractère à la position demandée (attention car les indices débutent à zéro) dans cette grande chaîne."
      ],
      "metadata": {
        "collapsed": true,
        "deletable": false,
        "editable": false,
        "nbgrader": {
          "checksum": "bb40943d6fa9dbebd9fba936d9b7e435",
          "grade": false,
          "grade_id": "cell-76906b0279e0d425",
          "locked": true,
          "schema_version": 1,
          "solution": false
        }
      }
    },
    {
      "cell_type": "code",
      "source": [
        "def trouverLettreAlphabet(position):\n",
        "    alpha = \" ABCDEFGHIJKLMNOPQRSTUVWXYZ\"   \n",
        "    resultat = alpha [position]\n",
        "    return resultat"
      ],
      "outputs": [],
      "execution_count": 47,
      "metadata": {
        "deletable": false,
        "nbgrader": {
          "checksum": "a5c341b86912292bc3715153e15667b1",
          "grade": false,
          "grade_id": "q4-code",
          "locked": false,
          "schema_version": 1,
          "solution": true
        }
      }
    },
    {
      "cell_type": "code",
      "source": [
        "from ipywidgets import interact, interactive, fixed, interact_manual\n",
        "import ipywidgets as widgets\n",
        "interact(trouverLettreAlphabet, position=(1,26));"
      ],
      "outputs": [
        {
          "output_type": "display_data",
          "data": {
            "application/vnd.jupyter.widget-view+json": {
              "model_id": "9987f74d35c84f7da6ae05782031eb5e",
              "version_major": 2,
              "version_minor": 0
            },
            "text/plain": [
              "interactive(children=(IntSlider(value=13, description='position', max=26, min=1), Output()), _dom_classes=('wi…"
            ]
          },
          "metadata": {}
        }
      ],
      "execution_count": 48,
      "metadata": {
        "scrolled": true
      }
    },
    {
      "cell_type": "code",
      "source": [
        "# Validations\n",
        "assert trouverLettreAlphabet(2) == 'B'\n",
        "assert trouverLettreAlphabet(5) == 'E'\n",
        "assert trouverLettreAlphabet(25) == 'Y'\n",
        "assert trouverLettreAlphabet(26) == 'Z'\n",
        "assert trouverLettreAlphabet(1) == 'A'\n",
        "assert trouverLettreAlphabet(3) == 'C'\n",
        "assert trouverLettreAlphabet(4) == 'D'\n",
        "assert trouverLettreAlphabet(6) == 'F'\n",
        "assert trouverLettreAlphabet(7) == 'G'\n",
        "assert trouverLettreAlphabet(8) == 'H'\n",
        "assert trouverLettreAlphabet(9) == 'I'\n",
        "assert trouverLettreAlphabet(10) == 'J'\n",
        "assert trouverLettreAlphabet(11) == 'K'\n",
        "assert trouverLettreAlphabet(12) == 'L'\n",
        "assert trouverLettreAlphabet(13) == 'M'\n",
        "assert trouverLettreAlphabet(14) == 'N'\n",
        "assert trouverLettreAlphabet(15) == 'O'\n",
        "assert trouverLettreAlphabet(16) == 'P'\n",
        "assert trouverLettreAlphabet(17) == 'Q'\n",
        "assert trouverLettreAlphabet(18) == 'R'\n",
        "assert trouverLettreAlphabet(19) == 'S'\n",
        "assert trouverLettreAlphabet(20) == 'T'\n",
        "assert trouverLettreAlphabet(21) == 'U'\n",
        "assert trouverLettreAlphabet(22) == 'V'\n",
        "assert trouverLettreAlphabet(23) == 'W'\n",
        "assert trouverLettreAlphabet(24) == 'X'"
      ],
      "outputs": [
        {
          "output_type": "error",
          "ename": "AssertionError",
          "evalue": "",
          "traceback": [
            "\u001b[0;31m---------------------------------------------------------------------------\u001b[0m",
            "\u001b[0;31mAssertionError\u001b[0m                            Traceback (most recent call last)",
            "\u001b[0;32m<ipython-input-9-201265726500>\u001b[0m in \u001b[0;36m<module>\u001b[0;34m()\u001b[0m\n\u001b[1;32m      1\u001b[0m \u001b[0;31m# Validations\u001b[0m\u001b[0;34m\u001b[0m\u001b[0;34m\u001b[0m\u001b[0m\n\u001b[1;32m      2\u001b[0m \u001b[0;32massert\u001b[0m \u001b[0mtrouverLettreAlphabet\u001b[0m\u001b[0;34m(\u001b[0m\u001b[0;36m2\u001b[0m\u001b[0;34m)\u001b[0m \u001b[0;34m==\u001b[0m \u001b[0;34m'B'\u001b[0m\u001b[0;34m\u001b[0m\u001b[0m\n\u001b[0;32m----> 3\u001b[0;31m \u001b[0;32massert\u001b[0m \u001b[0mtrouverLettreAlphabet\u001b[0m\u001b[0;34m(\u001b[0m\u001b[0;36m5\u001b[0m\u001b[0;34m)\u001b[0m \u001b[0;34m==\u001b[0m \u001b[0;34m'E'\u001b[0m\u001b[0;34m\u001b[0m\u001b[0m\n\u001b[0m\u001b[1;32m      4\u001b[0m \u001b[0;32massert\u001b[0m \u001b[0mtrouverLettreAlphabet\u001b[0m\u001b[0;34m(\u001b[0m\u001b[0;36m25\u001b[0m\u001b[0;34m)\u001b[0m \u001b[0;34m==\u001b[0m \u001b[0;34m'Y'\u001b[0m\u001b[0;34m\u001b[0m\u001b[0m\n\u001b[1;32m      5\u001b[0m \u001b[0;32massert\u001b[0m \u001b[0mtrouverLettreAlphabet\u001b[0m\u001b[0;34m(\u001b[0m\u001b[0;36m26\u001b[0m\u001b[0;34m)\u001b[0m \u001b[0;34m==\u001b[0m \u001b[0;34m'Z'\u001b[0m\u001b[0;34m\u001b[0m\u001b[0m\n",
            "\u001b[0;31mAssertionError\u001b[0m: "
          ]
        }
      ],
      "execution_count": 9,
      "metadata": {
        "deletable": false,
        "editable": false,
        "nbgrader": {
          "checksum": "386709e5b2fde77c2bb3ac8ba95a74c1",
          "grade": true,
          "grade_id": "q4-tests",
          "locked": true,
          "points": 1,
          "schema_version": 1,
          "solution": false
        }
      }
    },
    {
      "cell_type": "markdown",
      "source": [
        "---\n",
        "#### Question #5 (1 point)\n",
        "\n",
        "Déclarez une fonction `trouverPositionAlphabet(lettre)` qui retourne la position dans l'alphabet de la lettre donnée en paramètre.\n",
        "\n",
        "> Considérez que la lettre fournie peut être en minuscule ou en majuscule.<br>La lettre est obligatoirement une des 26 lettres de l'alphabet.\n",
        "\n",
        "**Stratégie recommandée:**\n",
        "\nÀ l'intérieur de la fonction, composez une chaîne de caractères pour toutes les lettres de l'alphabet (dans l'ordre).  Ensuite, recherchez la position dans la chaîne.  ATTENTION car la première lettre ('A') doit retourner la position 1 (et non pas la position 0)."
      ],
      "metadata": {
        "collapsed": true,
        "deletable": false,
        "editable": false,
        "nbgrader": {
          "checksum": "6d23def77efb29ec0a8fc2e380783e85",
          "grade": false,
          "grade_id": "cell-592e49d23af69e7d",
          "locked": true,
          "schema_version": 1,
          "solution": false
        }
      }
    },
    {
      "cell_type": "code",
      "source": [
        "def trouverPositionAlphabet(lettre):\n",
        "    alpha = \" ABCDEFGHIJKLMNOPQRSTUVWXYZ\"   \n",
        "    resultat = alpha.find(lettre.upper())\n",
        "    return resultat"
      ],
      "outputs": [],
      "execution_count": null,
      "metadata": {
        "deletable": false,
        "nbgrader": {
          "checksum": "56fbb6cdd12941672d38f02c0ea32066",
          "grade": false,
          "grade_id": "q5-code",
          "locked": false,
          "schema_version": 1,
          "solution": true
        }
      }
    },
    {
      "cell_type": "code",
      "source": [
        "# Validations\n",
        "assert trouverPositionAlphabet('B') == 2\n",
        "assert trouverPositionAlphabet('E') == 5\n",
        "assert trouverPositionAlphabet('Y') == 25\n",
        "assert trouverPositionAlphabet('Z') == 26\n",
        "assert trouverPositionAlphabet('A') == 1\n",
        "assert trouverPositionAlphabet('C') == 3\n",
        "assert trouverPositionAlphabet('Z') == 26\n",
        "assert trouverPositionAlphabet('a') == 1\n",
        "assert trouverPositionAlphabet('c') == 3\n",
        "assert trouverPositionAlphabet('x') == 24"
      ],
      "outputs": [],
      "execution_count": null,
      "metadata": {
        "deletable": false,
        "editable": false,
        "nbgrader": {
          "checksum": "ca54d4d2c4f66c100e6c72fa98289967",
          "grade": true,
          "grade_id": "q5-tests",
          "locked": true,
          "points": 1,
          "schema_version": 1,
          "solution": false
        }
      }
    },
    {
      "cell_type": "markdown",
      "source": [
        "---\n",
        "#### Question #6 (1 point)\n",
        "\n",
        "Déclarez une fonction `masquerVoyelles(mot)` qui retourne une chaîne où les voyelles ('a','e','i','o','u' et 'y') sont remplacées par un souligné.\n",
        "\n",
        "Exemple:\n",
        "\n",
        "> \"voyelles\" --> \"v___ll_s\"\n",
        "\n",
        "*Considérez* que le mot reçu est toujours en minuscules.  \n",
        "\n",
        "On ne considère que les voyelles sans accent.\n",
        "\n",
        "**Stratégie recommandée:**\n",
        "\n",
        "* Remplacez tous les 'a' du mot et placer le résultat dans une nouvelle variable\n",
        "* Remplacez ensuite les 'e' présents dans cette nouvelle variable; placez le résultat à nouveau dans cette variable (remplace l'ancien contenu)\n",
        "* Faites la même chose pour les autres voyelles\n"
      ],
      "metadata": {
        "collapsed": true,
        "deletable": false,
        "editable": false,
        "nbgrader": {
          "checksum": "3eef634bb73be552f1559c2a45666d55",
          "grade": false,
          "grade_id": "cell-8c627b11f5f42d62",
          "locked": true,
          "schema_version": 1,
          "solution": false
        }
      }
    },
    {
      "cell_type": "code",
      "source": [
        "def masquerVoyelles(mot):\n",
        "    reponse = mot.replace('a','_')\n",
        "    reponse = reponse.replace('e','_')\n",
        "    reponse = reponse.replace('i','_')\n",
        "    reponse = reponse.replace('o','_')\n",
        "    reponse = reponse.replace('u','_')\n",
        "    reponse = reponse.replace('y','_')\n",
        "    return reponse"
      ],
      "outputs": [],
      "execution_count": null,
      "metadata": {
        "deletable": false,
        "nbgrader": {
          "checksum": "c77199fdef7cf357b5e88da40a8dd26e",
          "grade": false,
          "grade_id": "q6-code",
          "locked": false,
          "schema_version": 1,
          "solution": true
        }
      }
    },
    {
      "cell_type": "code",
      "source": [
        "# Validations\n",
        "assert masquerVoyelles('yo-yo') == '__-__'\n",
        "assert masquerVoyelles('anticonstitutionnellement') == '_nt_c_nst_t_t__nn_ll_m_nt'\n",
        "assert masquerVoyelles('aardvark') == '__rdv_rk'\n",
        "assert masquerVoyelles('iris') == '_r_s'\n",
        "assert masquerVoyelles('galeries') == 'g_l_r__s'\n",
        "assert masquerVoyelles('ouistiti') == '___st_t_'\n",
        "assert masquerVoyelles('oiseau') == '__s___'\n",
        "assert masquerVoyelles('brrr') == 'brrr'"
      ],
      "outputs": [],
      "execution_count": null,
      "metadata": {
        "deletable": false,
        "editable": false,
        "nbgrader": {
          "checksum": "6f6d851befed895e7ec1b88b898beec5",
          "grade": true,
          "grade_id": "q6-tests",
          "locked": true,
          "points": 1,
          "schema_version": 1,
          "solution": false
        }
      }
    },
    {
      "cell_type": "markdown",
      "source": [
        "---\n",
        "#### Question #7 (1 point)\n",
        "\n",
        "La fonction `encadrer(mot)` permet d'**afficher** le mot entouré d'un cadre composée d'astéristiques.\n",
        "\n",
        "Par exemple, `encadrer('informatique')` affichera:\n",
        "\n",
        "```\n",
        "****************\n",
        "* informatique *\n",
        "****************\n",
        "```\n",
        "\n",
        "**Stratégie possible:**\n",
        "\n",
        "* Afficher un astéristique `n` fois, où `n` est la longueur de la chaîne + 4\n",
        "* Afficher le mot, précédé d'un astérisque et d'un espace, puis suivi d'un espace et d'un astérisque\n",
        "* Affichez la même ligne d'astérisque qu'au début"
      ],
      "metadata": {
        "collapsed": true,
        "deletable": false,
        "editable": false,
        "nbgrader": {
          "checksum": "b768aa8e20defc5eeac0ac511d570816",
          "grade": false,
          "grade_id": "cell-b7da60d8f9056061",
          "locked": true,
          "schema_version": 1,
          "solution": false
        }
      }
    },
    {
      "cell_type": "code",
      "source": [
        "def encadrer(mot):\n",
        "    nbAsterisque = len(mot) + 4\n",
        "    print('*' * nbAsterisque)\n",
        "    print(\"* %s *\" % mot)\n",
        "    print('*' * nbAsterisque)"
      ],
      "outputs": [],
      "execution_count": null,
      "metadata": {
        "deletable": false,
        "nbgrader": {
          "checksum": "a708c9487d56cdedd651deb66d0611db",
          "grade": true,
          "grade_id": "q7-code",
          "locked": false,
          "points": 1,
          "schema_version": 1,
          "solution": true
        }
      }
    },
    {
      "cell_type": "code",
      "source": [
        "encadrer('informatique')\n",
        "encadrer('anticonsitutionnellement')\n",
        "encadrer('')"
      ],
      "outputs": [],
      "execution_count": null,
      "metadata": {}
    },
    {
      "cell_type": "markdown",
      "source": [
        "---\n",
        "#### Question #8 (1 point)\n",
        "\n",
        "Définissez une fonction `extraireExtension(nomFichier)` qui permet d'extraire l'extension et de la retourner (chaîne de caractères).\n",
        "\n",
        "> Considérez que le nom du fichier est toujours valide et possède une extension.\n",
        "\nLes extensions peuvent être de longueurs différentes.  La stratégie à appliquer est de rechercher à partir de la droite pour trouver la position du point.  Ensuite, faire un découpage de la chaîne après la position du point trouvé jusqu'à la fin de la chaîne."
      ],
      "metadata": {
        "collapsed": true,
        "deletable": false,
        "editable": false,
        "nbgrader": {
          "checksum": "1a723c432b0056a61e0c7745bd522cb1",
          "grade": false,
          "grade_id": "cell-49c7a35dda0156ae",
          "locked": true,
          "schema_version": 1,
          "solution": false
        }
      }
    },
    {
      "cell_type": "code",
      "source": [
        "def extraireExtension(nomFichier):\n",
        "    chaine = nomFichier[nomFichier.find('.') + 1:]\n",
        "    return chaine"
      ],
      "outputs": [],
      "execution_count": null,
      "metadata": {
        "deletable": false,
        "nbgrader": {
          "checksum": "a74c430a66ea9514d2d7cfc58efa206d",
          "grade": false,
          "grade_id": "q8-code",
          "locked": false,
          "schema_version": 1,
          "solution": true
        }
      }
    },
    {
      "cell_type": "code",
      "source": [
        "# Validations\n",
        "assert extraireExtension('monalisa.gif') == 'gif'\n",
        "assert extraireExtension('cv.docx') == 'docx'\n",
        "assert extraireExtension('logo.png') == 'png'\n",
        "assert extraireExtension('todo.txt') == 'txt'\n",
        "assert extraireExtension('planCours.md') == 'md'\n",
        "assert extraireExtension('programme.py') == 'py'\n",
        "assert extraireExtension('laboratoire.ipynb') == 'ipynb'"
      ],
      "outputs": [],
      "execution_count": null,
      "metadata": {
        "deletable": false,
        "editable": false,
        "nbgrader": {
          "checksum": "dca18e997f0fb945d67023425068b1f5",
          "grade": true,
          "grade_id": "q8-tests",
          "locked": true,
          "points": 1,
          "schema_version": 1,
          "solution": false
        }
      }
    },
    {
      "cell_type": "markdown",
      "source": [
        "---\n",
        "#### Question #9 (1 point)\n",
        "\n",
        "Définissez une fonction `extraireNomServeur(url)` qui permet d'extraire le nom d'un serveur (hôte) et de le retourner (chaîne de caractères).\n",
        "\n",
        "> - Considérez que l'URL représente une adresse Web valide (protocole://hote/chemin).\n",
        "- Le protocole est de longueur variable; il est délimité par \"://\"\n",
        "- Considérez que les séparateurs sont toujours des barres obliques (slash '/') inclinées vers la droite; jamais des barres obliques inversées (backslash '\\')\n",
        "- Il y aura toujours une barre oblique (slash '/') après le nom de l'hôte\n",
        "\n",
        "**Stratégie:**\n",
        "\n",
        "* Trouver la position du deux-points (:)\n",
        "* Extraire la sous-chaîne débutant deux positions plus loin que le deux-points (:) jusqu'à la fin de la chaîne; placez ce résultat dans une variable\n",
        "* Extraire la sous-chaîne (de la variable) du début jusqu'à la première barre oblique (slash '/')"
      ],
      "metadata": {
        "collapsed": true,
        "deletable": false,
        "editable": false,
        "nbgrader": {
          "checksum": "4dc0ce1bc47552b266dd3bff44f3756f",
          "grade": false,
          "grade_id": "cell-9299ed843fc05327",
          "locked": true,
          "schema_version": 1,
          "solution": false
        }
      }
    },
    {
      "cell_type": "code",
      "source": [
        "def extraireNomServeur(url):\n",
        "    lien = url[url.find(\":\") + 3:]\n",
        "    url = lien\n",
        "    lien = url[:url.find(\"/\")]\n",
        "    return lien"
      ],
      "outputs": [],
      "execution_count": null,
      "metadata": {
        "deletable": false,
        "nbgrader": {
          "checksum": "2684cc1ca0cc4b0dce35e5f35c58e0b4",
          "grade": false,
          "grade_id": "q9-code",
          "locked": false,
          "schema_version": 1,
          "solution": true
        }
      }
    },
    {
      "cell_type": "code",
      "source": [
        "# Validations\n",
        "assert extraireNomServeur('http://www.cegepthetford.ca/') == 'www.cegepthetford.ca'\n",
        "assert extraireNomServeur('file://area51.mil/ultra/secret.txt') == 'area51.mil'\n",
        "assert extraireNomServeur('https://c2z6.dinfo.cegepthetford.ca/examen1/e1.ipynb') == 'c2z6.dinfo.cegepthetford.ca'"
      ],
      "outputs": [],
      "execution_count": null,
      "metadata": {
        "deletable": false,
        "editable": false,
        "nbgrader": {
          "checksum": "61364c7d41d9586a1ad872c38fde0b19",
          "grade": true,
          "grade_id": "q9-tests",
          "locked": true,
          "points": 1,
          "schema_version": 1,
          "solution": false
        }
      }
    },
    {
      "cell_type": "markdown",
      "source": [
        "---\n",
        "#### Question #10 (1 point)\n",
        "\n",
        "Définissez une fonction `extraireProtocole(uri)` qui permet d'extraire le protocole URI (scheme) et de le retourner (chaîne de caractères).\n",
        "\n",
        "> - Considérez que l'URI est correctement formée (débute par `protocole:___`)\n",
        "- Le protocole est de longueur variable; il est délimité par \":\"\n",
        "\n",
        "**Stratégie:**\n",
        "\n* Extraire la chaîne jusqu'à la première occurrence du deux-point"
      ],
      "metadata": {
        "collapsed": true,
        "deletable": false,
        "editable": false,
        "nbgrader": {
          "checksum": "77cc1e6671b189fca90b3ca38ffd8958",
          "grade": false,
          "grade_id": "cell-75f28bcd1c6fec19",
          "locked": true,
          "schema_version": 1,
          "solution": false
        }
      }
    },
    {
      "cell_type": "code",
      "source": [
        "def extraireProtocole(uri):\n",
        "    lien = uri[:uri.find(':')]\n",
        "    return lien"
      ],
      "outputs": [],
      "execution_count": null,
      "metadata": {
        "deletable": false,
        "nbgrader": {
          "checksum": "970bc94a839ca150d942469a913b27bb",
          "grade": false,
          "grade_id": "q10-code",
          "locked": false,
          "schema_version": 1,
          "solution": true
        }
      }
    },
    {
      "cell_type": "code",
      "source": [
        "# Validations\n",
        "assert extraireProtocole('http://www.cegepthetford.ca/') == 'http'\n",
        "assert extraireProtocole('file://area51.mil/ultra/secret.txt') == 'file'\n",
        "assert extraireProtocole('https://c2z6.dinfo.cegepthetford.ca/examen1/e1.ipynb') == 'https'\n",
        "assert extraireProtocole('tel://418-338-8591') == 'tel'\n",
        "assert extraireProtocole('mailto:mguay@cegepthetford.ca') == 'mailto'"
      ],
      "outputs": [],
      "execution_count": null,
      "metadata": {
        "deletable": false,
        "editable": false,
        "nbgrader": {
          "checksum": "10aeb51902714e207e511e99bdc6b1c3",
          "grade": true,
          "grade_id": "q10-tests",
          "locked": true,
          "points": 1,
          "schema_version": 1,
          "solution": false
        }
      }
    },
    {
      "cell_type": "code",
      "source": [],
      "outputs": [],
      "execution_count": null,
      "metadata": {}
    }
  ],
  "metadata": {
    "kernelspec": {
      "display_name": "Python 3",
      "language": "python",
      "name": "python3"
    },
    "language_info": {
      "codemirror_mode": {
        "name": "ipython",
        "version": 3
      },
      "file_extension": ".py",
      "mimetype": "text/x-python",
      "name": "python",
      "nbconvert_exporter": "python",
      "pygments_lexer": "ipython3",
      "version": "3.5.2"
    },
    "nteract": {
      "version": "0.11.7"
    }
  },
  "nbformat": 4,
  "nbformat_minor": 2
}