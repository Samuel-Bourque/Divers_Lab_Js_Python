{
 "cells": [
  {
   "cell_type": "markdown",
   "metadata": {},
   "source": [
    "Before you turn this problem in, make sure everything runs as expected. First, **restart the kernel** (in the menubar, select Kernel$\\rightarrow$Restart) and then **run all cells** (in the menubar, select Cell$\\rightarrow$Run All).\n",
    "\n",
    "Make sure you fill in any place that says `YOUR CODE HERE` or \"YOUR ANSWER HERE\", as well as your name and collaborators below:"
   ]
  },
  {
   "cell_type": "code",
   "execution_count": null,
   "metadata": {},
   "outputs": [],
   "source": [
    "NAME = \"Samuel Bourque\"\n",
    "COLLABORATORS = \"...\""
   ]
  },
  {
   "cell_type": "markdown",
   "metadata": {},
   "source": [
    "---"
   ]
  },
  {
   "cell_type": "markdown",
   "metadata": {},
   "source": [
    "###### <img style='margin-right:0' src=\"http://dinfo.ca/logoDptInfo.jpg\" width=300>\n",
    "\n",
    "# Laboratoire #10 (JavaScript)\n",
    "---"
   ]
  },
  {
   "cell_type": "markdown",
   "metadata": {
    "collapsed": true,
    "deletable": false,
    "editable": false,
    "nbgrader": {
     "checksum": "75c757d798bcd37f5ebfb75d279bed70",
     "grade": false,
     "grade_id": "cell-9fc1028aa78665b1",
     "locked": true,
     "schema_version": 1,
     "solution": false
    }
   },
   "source": [
    "---\n",
    "#### Question #1 (1 point)\n",
    "Lors des Jeux du Québec 2018 à Thetford Mines, la finale des nageurs \"Garçons - 13-15 ans, 200m libre\" a homologué les temps suivants (exprimés sous forme de chaînes de caractères).\n",
    "\n",
    "Vous devez trier l'ensemble de données et afficher uniquement les cinq meilleurs temps.\n",
    "\n",
    "Résultats attendus:\n",
    "```\n",
    "Meilleurs temps\n",
    "---------------\n",
    "1 -- 01:53.7\n",
    "2 -- 01:55.7\n",
    "3 -- 01:57.3\n",
    "4 -- 01:58.6\n",
    "5 -- 01:59.4\n",
    "```"
   ]
  },
  {
   "cell_type": "code",
   "execution_count": 5,
   "metadata": {
    "deletable": false,
    "nbgrader": {
     "checksum": "3124df45c015011b09b25fa7ab0de757",
     "grade": true,
     "grade_id": "q1-code",
     "locked": false,
     "points": 0.5,
     "schema_version": 1,
     "solution": true
    }
   },
   "outputs": [
    {
     "name": "stdout",
     "output_type": "stream",
     "text": [
      "Meilleurs temps\n",
      "---------------\n",
      "1 -- 01:53.7\n",
      "2 -- 01:55.7\n",
      "3 -- 01:57.3\n",
      "4 -- 01:58.6\n",
      "5 -- 01:59.4\n"
     ]
    }
   ],
   "source": [
    "var resultats = ['02:23.6', '02:25.7', '02:11.5', '02:09.6', '02:08.7', '01:55.7',\n",
    "             '02:02.0', '02:20.9', '02:22.4', '02:04.2', '02:04.8', '02:18.5',\n",
    "             '02:19.5', '02:12.3', '01:58.6', '01:53.7', '02:13.4', '02:06.9',\n",
    "             '02:18.0', '02:16.1', '02:09.9', '02:07.1', '02:27.7', '01:57.3',\n",
    "             '02:08.5', '02:18.7', '02:12.1', '02:04.2', '02:18.3', '02:48.7',\n",
    "             '02:12.8', '02:16.3', '02:04.1', '02:25.6', '02:16.3', '02:37.2',\n",
    "             '01:59.4'];\n",
    "console.log(\"Meilleurs temps\");\n",
    "console.log(\"-\".repeat(15));\n",
    "resultats.sort();\n",
    "for(var i =0;i<5;i++)\n",
    "    console.log(`${i+1} -- ${resultats[i]}`);"
   ]
  },
  {
   "cell_type": "code",
   "execution_count": 6,
   "metadata": {
    "deletable": false,
    "editable": false,
    "nbgrader": {
     "checksum": "ba64500372e202289343d381ecf92017",
     "grade": true,
     "grade_id": "q1-tests",
     "locked": true,
     "points": 0.5,
     "schema_version": 1,
     "solution": false
    }
   },
   "outputs": [],
   "source": [
    "var assert = require('assert');\n",
    "assert(resultats.length == 37, \"Il devrait toujours y avoir 37 résultats\");\n",
    "assert(resultats[0] == '01:53.7', 'Premier temps');\n",
    "assert(resultats[1] == '01:55.7', 'Deuxième temps');\n",
    "assert(resultats[2] == '01:57.3', 'Troisième temps');\n",
    "assert(resultats[3] == '01:58.6', 'Quatrième temps');\n",
    "assert(resultats[4] == '01:59.4', 'Cinquième temps');\n",
    "assert(resultats[36] == '02:48.7', 'Dernier temps');"
   ]
  },
  {
   "cell_type": "markdown",
   "metadata": {
    "collapsed": true,
    "deletable": false,
    "editable": false,
    "nbgrader": {
     "checksum": "10b128129950a8b74fdc807f5b8a8643",
     "grade": false,
     "grade_id": "cell-2b2f135fead87d85",
     "locked": true,
     "schema_version": 1,
     "solution": false
    }
   },
   "source": [
    "---\n",
    "#### Question #2 (1 point)\n",
    "\n",
    "Pour la collection `bottinTelephonique`, on veut trier en ordre **décroissant** de numéro de téléphone.\n",
    "\n",
    "Résultats attendus:\n",
    "\n",
    "```\n",
    "[ '514-555-3333 Eric Fillion',\n",
    "  '514-555-2222 Guillaume Huard',\n",
    "  '418-555-1111 Kim Labrecque',\n",
    "  '418-333-3333 Ian Jacob',\n",
    "  '418-332-2222 Charles Demers',\n",
    "  '418-331-1111 Adam Bernard' ]```"
   ]
  },
  {
   "cell_type": "code",
   "execution_count": 7,
   "metadata": {
    "deletable": false,
    "nbgrader": {
     "checksum": "6b32631eab67e206611dc0c14ba0b76e",
     "grade": true,
     "grade_id": "q2-code",
     "locked": false,
     "points": 0.5,
     "schema_version": 1,
     "solution": true
    }
   },
   "outputs": [
    {
     "name": "stdout",
     "output_type": "stream",
     "text": [
      "[ '514-555-3333 Eric Fillion',\n",
      "  '514-555-2222 Guillaume Huard',\n",
      "  '418-555-1111 Kim Labrecque',\n",
      "  '418-333-3333 Ian Jacob',\n",
      "  '418-332-2222 Charles Demers',\n",
      "  '418-331-1111 Adam Bernard' ]\n"
     ]
    }
   ],
   "source": [
    "var bottinTelephonique = ['418-332-2222 Charles Demers',\n",
    "                          '514-555-3333 Eric Fillion',\n",
    "                          '514-555-2222 Guillaume Huard',\n",
    "                          '418-333-3333 Ian Jacob',\n",
    "                          '418-555-1111 Kim Labrecque',\n",
    "                          '418-331-1111 Adam Bernard']\n",
    "bottinTelephonique.sort().reverse();\n",
    "console.log(bottinTelephonique);"
   ]
  },
  {
   "cell_type": "code",
   "execution_count": 8,
   "metadata": {
    "deletable": false,
    "editable": false,
    "nbgrader": {
     "checksum": "95210fc47a8f84683f1e9de0becc6e17",
     "grade": true,
     "grade_id": "q2-tests",
     "locked": true,
     "points": 0.5,
     "schema_version": 1,
     "solution": false
    }
   },
   "outputs": [],
   "source": [
    "var assert = require('assert');\n",
    "assert(bottinTelephonique.length == 6, \"Devrait y avoir 6 entrées dans le bottin\");\n",
    "assert(bottinTelephonique[0] == '514-555-3333 Eric Fillion',    'Premier numéro invalide');\n",
    "assert(bottinTelephonique[1] == '514-555-2222 Guillaume Huard', 'Deuxième numéro invalide');\n",
    "assert(bottinTelephonique[2] == '418-555-1111 Kim Labrecque',   'Troisième numéro invalide');\n",
    "assert(bottinTelephonique[3] == '418-333-3333 Ian Jacob',       'Quatrième numéro invalide');\n",
    "assert(bottinTelephonique[4] == '418-332-2222 Charles Demers',  'Cinquième numéro invalide');\n",
    "assert(bottinTelephonique[5] == '418-331-1111 Adam Bernard',    'Sixième numéro invalide');"
   ]
  },
  {
   "cell_type": "markdown",
   "metadata": {
    "collapsed": true,
    "deletable": false,
    "editable": false,
    "nbgrader": {
     "checksum": "8aa736ed1793d34a1d6cff1c175ddf0c",
     "grade": false,
     "grade_id": "q3-enonce",
     "locked": true,
     "schema_version": 1,
     "solution": false
    }
   },
   "source": [
    "---\n",
    "#### Question #3 (1.5 point)\n",
    "\n",
    "Créer une fonction `extraireCours(liste,noProgramme)` qui, à partir d'une liste de cours, extrait les cours d'un numéro de programme et trie les cours extraits en ordre croissant de numéro.  La fonction retourne la nouvelle collection.\n",
    "\n",
    "> La collection reçue en paramètre ne doit pas être modifiée (ni en taille, ni au niveau de l'ordre original).\n",
    "\n",
    "Résultats attendus:\n",
    "\n",
    "```\n",
    "420-2X3-RA Carrières informatiques\n",
    "420-2Y6-RA Installation d’ordinateurs\n",
    "420-2Z6-RA Introduction à la programmation\n",
    "```"
   ]
  },
  {
   "cell_type": "code",
   "execution_count": 9,
   "metadata": {
    "deletable": false,
    "nbgrader": {
     "checksum": "859085175241f1f8dbb0a24e77ab6d87",
     "grade": true,
     "grade_id": "q3-code",
     "locked": false,
     "points": 0.5,
     "schema_version": 1,
     "solution": true
    }
   },
   "outputs": [
    {
     "name": "stdout",
     "output_type": "stream",
     "text": [
      "420-2X3-RA Carrières informatiques\n",
      "420-2Y6-RA Installation d’ordinateurs\n",
      "420-2Z6-RA Introduction à la programmation\n"
     ]
    }
   ],
   "source": [
    "function extraireCours(liste,noProgramme) {\n",
    "    var extractionCours = [];\n",
    "    for(var i=0;i<liste.length;i++){\n",
    "        if(liste[i].startsWith(noProgramme))\n",
    "           extractionCours.push(liste[i]);\n",
    "    extractionCours.sort();\n",
    "    }\n",
    "    return extractionCours;\n",
    "}\n",
    "\n",
    "var listeCours = [\n",
    "    \"420-2Y6-RA Installation d’ordinateurs\",\n",
    "    \"420-2X3-RA Carrières informatiques\",\n",
    "    \"420-2Z6-RA Introduction à la programmation\",\n",
    "    \"201-273-RA Mathématiques appliquées à l’informatique I\",\n",
    "    \"340-101-MQ Philosophie et rationalité\",\n",
    "    \"601-101-MQ Écriture et littérature\",\n",
    "    \"604-COM-R4 Anglais commun\"\n",
    "];\n",
    "var cours420 = extraireCours(listeCours, 420);\n",
    "for(var i=0;i<cours420.length;i++)\n",
    "    console.log(cours420[i]);"
   ]
  },
  {
   "cell_type": "code",
   "execution_count": 10,
   "metadata": {
    "deletable": false,
    "editable": false,
    "nbgrader": {
     "checksum": "e4335a1ab23ba9a9e42da257bdbcb91d",
     "grade": true,
     "grade_id": "q3-test",
     "locked": true,
     "points": 1,
     "schema_version": 1,
     "solution": false
    }
   },
   "outputs": [],
   "source": [
    "var assert = require('assert');\n",
    "assert(listeCours.length == 7, 'liste de cours conserve sept (7) cours');\n",
    "assert(listeCours[0] == \"420-2Y6-RA Installation d’ordinateurs\", '1er cours -- liste d\\'origine');\n",
    "assert(listeCours[1] == \"420-2X3-RA Carrières informatiques\", '2e cours -- liste d\\'origine');\n",
    "assert(listeCours[2] == \"420-2Z6-RA Introduction à la programmation\", '3e cours -- liste d\\'origine');\n",
    "assert(listeCours[3] == \"201-273-RA Mathématiques appliquées à l’informatique I\", '4e cours -- liste d\\'origine');\n",
    "assert(listeCours[4] == \"340-101-MQ Philosophie et rationalité\", '5e cours -- liste d\\'origine');\n",
    "assert(listeCours[5] == \"601-101-MQ Écriture et littérature\", '6e cours -- liste d\\'origine');\n",
    "assert(listeCours[6] == \"604-COM-R4 Anglais commun\", '7e cours -- liste d\\'origine');\n",
    "var extr = extraireCours(listeCours, 420);\n",
    "assert(extr.length == 3, 'Trois cours du programme 420');\n",
    "assert(extr[0] == '420-2X3-RA Carrières informatiques', '1er cours extraction 420');\n",
    "assert(extr[1] == '420-2Y6-RA Installation d’ordinateurs', '2e cours extraction 420');\n",
    "assert(extr[2] == '420-2Z6-RA Introduction à la programmation', '3e cours extraction 420');\n",
    "extr = extraireCours(listeCours, 601);\n",
    "assert(extr.length == 1, 'Un cours pour programme 601');\n",
    "assert(extr[0] == '601-101-MQ Écriture et littérature');\n",
    "extr = extraireCours(listeCours, 123);\n",
    "assert(extr.length == 0, 'Aucun programme 123');"
   ]
  },
  {
   "cell_type": "markdown",
   "metadata": {
    "collapsed": true,
    "deletable": false,
    "editable": false,
    "nbgrader": {
     "checksum": "70ccfab9679ffbf3f65eab1146b6b9f4",
     "grade": false,
     "grade_id": "cell-76906b0279e0d425",
     "locked": true,
     "schema_version": 1,
     "solution": false
    }
   },
   "source": [
    "---\n",
    "#### Question #4 (1.5 point)\n",
    "\n",
    "À l'aide d'un comparateur externe, trier en ordre croissant de périodes en classe par semaine (somme des deux premiers chiffres) la liste des cours.  \n",
    "\n",
    "Ex: Carrières informatiques a trois périodes par semaine (théorie: 1 + lab: 2) tandis que le cours de philo est un quatre (4) heures par semaine.\n",
    "\n",
    "> Aucun traitement particulier à réaliser si deux cours ont le même nombre d'heures-contact par semaine.\n",
    "\n",
    "Résultats attendus:\n",
    "\n",
    "```\n",
    "- Carrières informatiques                       (420-2X3-RA) -- 3 périodes\n",
    "- Mathématiques appliquées à linformatique I    (201-273-RA) -- 3 périodes\n",
    "- Anglais commun                                (604-COM-RA) -- 3 périodes\n",
    "- Philosophie et rationalité                    (340-101-MQ) -- 4 périodes\n",
    "- Écriture et littérature                       (601-101-MQ) -- 4 périodes\n",
    "- Installation dordinateurs                     (420-2Y6-RA) -- 6 périodes\n",
    "- Introduction à la programmation               (420-2Z6-RA) -- 6 périodes\n",
    "```"
   ]
  },
  {
   "cell_type": "code",
   "execution_count": 3,
   "metadata": {
    "deletable": false,
    "nbgrader": {
     "checksum": "f1203853328259243bc379c0a19752a0",
     "grade": true,
     "grade_id": "q4-code",
     "locked": false,
     "points": 0.5,
     "schema_version": 1,
     "solution": true
    }
   },
   "outputs": [
    {
     "name": "stdout",
     "output_type": "stream",
     "text": [
      "- Carrières informatiques                       (420-2X3-RA) -- 3 périodes\n",
      "- Mathématiques appliquées à l'informatique I   (201-273-RA) -- 3 périodes\n",
      "- Anglais commun                                (604-COM-RA) -- 3 périodes\n",
      "- Philosophie et rationalité                    (340-101-MQ) -- 4 périodes\n",
      "- Écriture et littérature                       (601-101-MQ) -- 4 périodes\n",
      "- Installation d'ordinateurs                    (420-2Y6-RA) -- 6 périodes\n",
      "- Introduction à la programmation               (420-2Z6-RA) -- 6 périodes\n"
     ]
    }
   ],
   "source": [
    "function comparateurDureeCours(coursX, coursY) {\n",
    "    var totalX = coursX[0] + coursX[1];\n",
    "    var totalY = coursY[0] + coursY[1];\n",
    "    \n",
    "    if(totalX < totalY) {\n",
    "        resultat = -1;\n",
    "    }  \n",
    "    else if(totalX > totalY) {\n",
    "        resultat = 1;\n",
    "    } else {\n",
    "        resultat = 0;\n",
    "    }\n",
    "    return resultat;\n",
    "    \n",
    "}\n",
    "\n",
    "var cours = [\n",
    "    [2,4,3,'420-2Y6-RA', 'Installation d\\'ordinateurs'],\n",
    "    [1,2,1,'420-2X3-RA', 'Carrières informatiques'],\n",
    "    [3,3,3,'420-2Z6-RA', 'Introduction à la programmation'],\n",
    "    [2,1,1,'201-273-RA', 'Mathématiques appliquées à l\\'informatique I'],\n",
    "    [3,1,3,'340-101-MQ', 'Philosophie et rationalité'],\n",
    "    [2,2,3,'601-101-MQ', 'Écriture et littérature'],\n",
    "    [2,1,3,'604-COM-RA', 'Anglais commun']\n",
    "];\n",
    "\n",
    "cours.sort(comparateurDureeCours);\n",
    "\n",
    "function formatterChaine(chaine, longueur) { return chaine + ' '.repeat(longueur - chaine.length); }\n",
    "\n",
    "for(var i=0;i<cours.length;i++) {\n",
    "    var unCours = cours[i];\n",
    "    console.log(`- ${ unCours[4] + ' '.repeat(45 - unCours[4].length)} (${unCours[3]}) -- ${unCours[0] + unCours[1]} périodes`);\n",
    "}"
   ]
  },
  {
   "cell_type": "code",
   "execution_count": 4,
   "metadata": {
    "deletable": false,
    "editable": false,
    "nbgrader": {
     "checksum": "d401ae3389ca1f8b6885d86458e09add",
     "grade": true,
     "grade_id": "q4-tests",
     "locked": true,
     "points": 1,
     "schema_version": 1,
     "solution": false
    }
   },
   "outputs": [],
   "source": [
    "// Tests cachés"
   ]
  },
  {
   "cell_type": "code",
   "execution_count": null,
   "metadata": {},
   "outputs": [],
   "source": []
  }
 ],
 "metadata": {
  "kernelspec": {
   "display_name": "Javascript (Node.js)",
   "language": "javascript",
   "name": "javascript"
  },
  "language_info": {
   "file_extension": ".js",
   "mimetype": "application/javascript",
   "name": "javascript",
   "version": "6.11.0"
  }
 },
 "nbformat": 4,
 "nbformat_minor": 2
}
