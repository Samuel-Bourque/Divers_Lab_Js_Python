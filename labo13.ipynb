{
 "cells": [
  {
   "cell_type": "markdown",
   "metadata": {},
   "source": [
    "Before you turn this problem in, make sure everything runs as expected. First, **restart the kernel** (in the menubar, select Kernel$\\rightarrow$Restart) and then **run all cells** (in the menubar, select Cell$\\rightarrow$Run All).\n",
    "\n",
    "Make sure you fill in any place that says `YOUR CODE HERE` or \"YOUR ANSWER HERE\", as well as your name and collaborators below:"
   ]
  },
  {
   "cell_type": "code",
   "execution_count": null,
   "metadata": {},
   "outputs": [],
   "source": [
    "NAME = \"Samuel Bourque\"\n",
    "COLLABORATORS = \"...\""
   ]
  },
  {
   "cell_type": "markdown",
   "metadata": {},
   "source": [
    "---"
   ]
  },
  {
   "cell_type": "markdown",
   "metadata": {},
   "source": [
    "###### <img style='margin-right:0' src=\"http://dinfo.ca/logoDptInfo.jpg\" width=300>\n",
    "\n",
    "# Laboratoire #13 (JavaScript)\n",
    "---"
   ]
  },
  {
   "cell_type": "markdown",
   "metadata": {
    "collapsed": true,
    "deletable": false,
    "editable": false,
    "nbgrader": {
     "checksum": "698f160d343ee5a5477271681694c804",
     "grade": false,
     "grade_id": "q1-enonce",
     "locked": true,
     "schema_version": 1,
     "solution": false
    }
   },
   "source": [
    "#### Question #1 (2 points)\n",
    "\n",
    "Créez une collection d'association (Map) ayant comme clé le numéro d'employé et comme valeur associée un objet JavaScript.  \n",
    "\n",
    "Cette collection doit être référencée par la variable `employes`.\n",
    "\n",
    "Les clés de l'objet JavaScript doivent être un symbole (et non une chaîne).\n",
    "\n",
    "L'objet JavaScript possède 3 clés: \n",
    "- nom\n",
    "- nbHeures\n",
    "- tauxHoraire\n",
    "\n",
    "| noEmpl | nom             | nbHeures | tauxHoraire |\n",
    "|--------|-----------------|----------|-------------|\n",
    "| 11122  | 'Adam Bernard'  |   0.0    |  15.00      |\n",
    "| 22233  | 'Charles Demers'|   15.5   |  20.00      |\n",
    "| 33344  | 'Eric Fillion'  |   7.0    |  12.25      |\n"
   ]
  },
  {
   "cell_type": "code",
   "execution_count": 186,
   "metadata": {
    "deletable": false,
    "nbgrader": {
     "checksum": "f093ea4b28a91706a9ff8f218abbc9c7",
     "grade": true,
     "grade_id": "q1-reponse",
     "locked": false,
     "points": 1,
     "schema_version": 1,
     "solution": true
    }
   },
   "outputs": [
    {
     "data": {
      "text/plain": [
       "Map { undefined => undefined }"
      ]
     },
     "execution_count": 186,
     "metadata": {},
     "output_type": "execute_result"
    }
   ],
   "source": [
    "employes = new Map( [\n",
    "    {noEmpl : 11122, nom : \"Adam Bernard\", nbHeures : 0.0, tauxHoraire : 15.00},\n",
    "    {noEmpl : 22233, nom : \"Charles Demers\", nbHeures : 15.5, tauxHoraire : 20.00},\n",
    "    {noEmpl : 33344, nom : \"Eric Fillion\", nbHeures : 7.0, tauxHoraire : 12.25} \n",
    "   ] );"
   ]
  },
  {
   "cell_type": "code",
   "execution_count": 187,
   "metadata": {
    "deletable": false,
    "editable": false,
    "nbgrader": {
     "checksum": "7bcc0e142b5677828273847b96edce13",
     "grade": true,
     "grade_id": "q1-validation",
     "locked": true,
     "points": 1,
     "schema_version": 1,
     "solution": false
    }
   },
   "outputs": [
    {
     "ename": "AssertionError",
     "evalue": "Doit y avoir trois éléments dans la collection",
     "output_type": "error",
     "traceback": [
      "AssertionError: Doit y avoir trois éléments dans la collection",
      "    at evalmachine.<anonymous>:4:1",
      "    at ContextifyScript.Script.runInThisContext (vm.js:25:33)",
      "    at Object.runInThisContext (vm.js:97:38)",
      "    at run ([eval]:1002:15)",
      "    at onRunRequest ([eval]:829:18)",
      "    at onMessage ([eval]:789:13)",
      "    at emitTwo (events.js:106:13)",
      "    at process.emit (events.js:191:7)",
      "    at process.nextTick (internal/child_process.js:758:12)",
      "    at _combinedTickCallback (internal/process/next_tick.js:73:7)"
     ]
    }
   ],
   "source": [
    "var assert = require('assert');\n",
    "assert(typeof employes !== 'undefined', 'Pas déclaré la variable `employes`');\n",
    "assert(employes instanceof Map, '`employes` doit être de type Map');\n",
    "assert(employes.size == 3, 'Doit y avoir trois éléments dans la collection');\n",
    "assert(employes.has(11122), 'Clé 11122 absente');\n",
    "assert(employes.has(22233), 'Clé 22233 absente');\n",
    "assert(employes.has(33344), 'Clé 33344 absente');\n",
    "assert(employes.get(11122).hasOwnProperty('nom'));\n",
    "assert(employes.get(22233).hasOwnProperty('nom'));\n",
    "assert(employes.get(33344).hasOwnProperty('nom'));\n",
    "assert(employes.get(11122).hasOwnProperty('nbHeures'));\n",
    "assert(employes.get(22233).hasOwnProperty('nbHeures'));\n",
    "assert(employes.get(33344).hasOwnProperty('nbHeures'));\n",
    "assert(employes.get(11122).hasOwnProperty('tauxHoraire'));\n",
    "assert(employes.get(22233).hasOwnProperty('tauxHoraire'));\n",
    "assert(employes.get(33344).hasOwnProperty('tauxHoraire'));\n",
    "assert(employes.get(11122).nom === 'Adam Bernard');\n",
    "assert(employes.get(22233).nom === 'Charles Demers');\n",
    "assert(employes.get(33344).nom === 'Eric Fillion');"
   ]
  },
  {
   "cell_type": "markdown",
   "metadata": {
    "collapsed": true,
    "deletable": false,
    "editable": false,
    "nbgrader": {
     "checksum": "1d45a1ba07db7bff59a9fff74611ec24",
     "grade": false,
     "grade_id": "q2-enonce",
     "locked": true,
     "schema_version": 1,
     "solution": false
    }
   },
   "source": [
    "---\n",
    "#### Question #2 (2 points) \n",
    "\n",
    "Pour la collection des employés, on veut calculer le salaire brut (nombre d'heures x taux horaire).\n",
    "\n",
    "NOTE: On ne fait pas de calcul pour les heures supplémentaires.\n",
    "\n",
    "Résultats attendus:\n",
    "```\n",
    "Adam Bernard (11122) -- salaire brut: 0.00$\n",
    "Charles Demers (22233) -- salaire brut: 310.00$\n",
    "Eric Fillion (33344) -- salaire brut: 85.75$\n",
    "```"
   ]
  },
  {
   "cell_type": "code",
   "execution_count": null,
   "metadata": {
    "deletable": false,
    "nbgrader": {
     "checksum": "cf520efb86c62c6bceb08283ec79befa",
     "grade": true,
     "grade_id": "q2-reponse",
     "locked": false,
     "points": 2,
     "schema_version": 1,
     "solution": true
    }
   },
   "outputs": [],
   "source": [
    "employes\n",
    "\" -- \"\n",
    "nbHeures * tauxHoraire"
   ]
  },
  {
   "cell_type": "markdown",
   "metadata": {
    "collapsed": true,
    "deletable": false,
    "editable": false,
    "nbgrader": {
     "checksum": "6ed802495b992d4ead8338c4f13084ac",
     "grade": false,
     "grade_id": "q3-enonce",
     "locked": true,
     "schema_version": 1,
     "solution": false
    }
   },
   "source": [
    "---\n",
    "#### Question #3 (3 points)\n",
    "\n",
    "Chargez le fichier JSON nommé 'films.json'; ce fichier se trouve dans le répertoire courant du laboratoire.\n",
    "\n",
    "**Utilisez `JSONEditorOnline.org` pour comprendre la structure**\n",
    "\n",
    "Affichez le titre de chaque film.\n",
    "\n",
    "Résultats attendus (début de la liste):\n",
    "\n",
    "```\n",
    "Venom\n",
    "Bohemian Rhapsody\n",
    "Les Indestructibles 2\n",
    "The Predator\n",
    "A Star Is Born\n",
    "```"
   ]
  },
  {
   "cell_type": "code",
   "execution_count": null,
   "metadata": {
    "deletable": false,
    "nbgrader": {
     "checksum": "e1dd6082c40513d95e8c5b6affeec5ce",
     "grade": true,
     "grade_id": "q3-reponse",
     "locked": false,
     "points": 3,
     "schema_version": 1,
     "solution": true
    }
   },
   "outputs": [],
   "source": [
    "var fs = require('fs');\n",
    "var chaineJSON = fs.readFileSync('films.json', 'utf8');\n",
    "// your code here\n",
    "throw new Error();"
   ]
  },
  {
   "cell_type": "markdown",
   "metadata": {
    "collapsed": true,
    "deletable": false,
    "editable": false,
    "nbgrader": {
     "checksum": "5322481962c2af2e271b0dccf40aaffc",
     "grade": false,
     "grade_id": "q4-enonce",
     "locked": true,
     "schema_version": 1,
     "solution": false
    }
   },
   "source": [
    "---\n",
    "#### Question #4 (3 points)\n",
    "\n",
    "Quel est le film ayant eu le plus de votes (vote_count)?  \n",
    "> Par programmation, faites la recherche dans les résultats JSON.\n",
    "\n",
    "Assignez les valeurs aux variables `titre`, `description` et `poster` (url de l'image de l'affiche).  \n",
    "\n",
    "Exemple de résultats attendus (<span style=\"background-color:yellow\">note: pas le film recherché</span>):\n",
    "<div style=\"border:1px solid black; padding:10px\">\n",
    "  <h1>Venom</h1>\n",
    "  <p>Des symbiotes débarquent sur la Terre, parmi eux, Venom, qui va s'allier avec Eddie Brock. De son côté, un puissant scientifique tente de faire évoluer l'humanité avec les symbiotes, le duo d'anti-héros va devoir tout faire pour l'arrêter !<p/>\n",
    "  <img src=\"https://image.tmdb.org/t/p/w185/vVusHIRlyyFVS42XnqZso2wGKr.jpg\">\n",
    "</div>"
   ]
  },
  {
   "cell_type": "code",
   "execution_count": null,
   "metadata": {
    "deletable": false,
    "nbgrader": {
     "checksum": "4207da26b551ff3735fa299f42a5ceab",
     "grade": true,
     "grade_id": "q4-reponse",
     "locked": false,
     "points": 1,
     "schema_version": 1,
     "solution": true
    }
   },
   "outputs": [],
   "source": [
    "var poster = '/vVusHIRlyyFVS42XnqZso2wGKr.jpg';\n",
    "var titre = 'titre';\n",
    "var description = 'Lorem ipsum dolor sit amet...';\n",
    "// your code here\n",
    "throw new Error();\n",
    "$$.html(`\n",
    "  <h1>${titre}</h1>\n",
    "  <p>${description}<p/>\n",
    "  <img src=\"https://image.tmdb.org/t/p/w185/${poster}\">`);"
   ]
  },
  {
   "cell_type": "code",
   "execution_count": null,
   "metadata": {
    "deletable": false,
    "editable": false,
    "nbgrader": {
     "checksum": "84e96c6e28595ee4c040ad4dd5621372",
     "grade": true,
     "grade_id": "cell-f85ee74b174cdd51",
     "locked": true,
     "points": 2,
     "schema_version": 1,
     "solution": false
    }
   },
   "outputs": [],
   "source": [
    "var assert = require('assert');\n",
    "assert(poster.endsWith('Z96VLkqEZo3.jpg'), 'Mauvaise image pour l\\'affiche');\n",
    "assert(titre.startsWith('Les Ind'), 'Mauvais titre');\n",
    "assert(description.startsWith('Notre famille de super-héros'), 'Mauvaise description')"
   ]
  }
 ],
 "metadata": {
  "kernelspec": {
   "display_name": "Javascript (Node.js)",
   "language": "javascript",
   "name": "javascript"
  },
  "language_info": {
   "file_extension": ".js",
   "mimetype": "application/javascript",
   "name": "javascript",
   "version": "6.11.0"
  }
 },
 "nbformat": 4,
 "nbformat_minor": 2
}
