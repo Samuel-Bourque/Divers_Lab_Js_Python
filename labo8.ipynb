{
 "cells": [
  {
   "cell_type": "markdown",
   "metadata": {},
   "source": [
    "Before you turn this problem in, make sure everything runs as expected. First, **restart the kernel** (in the menubar, select Kernel$\\rightarrow$Restart) and then **run all cells** (in the menubar, select Cell$\\rightarrow$Run All).\n",
    "\n",
    "Make sure you fill in any place that says `YOUR CODE HERE` or \"YOUR ANSWER HERE\", as well as your name and collaborators below:"
   ]
  },
  {
   "cell_type": "code",
   "execution_count": null,
   "metadata": {},
   "outputs": [],
   "source": [
    "NAME = \"Samuel Bourque\"\n",
    "COLLABORATORS = \"...\""
   ]
  },
  {
   "cell_type": "markdown",
   "metadata": {},
   "source": [
    "---"
   ]
  },
  {
   "cell_type": "markdown",
   "metadata": {},
   "source": [
    "###### <img style='margin-right:0' src=\"http://dinfo.ca/logoDptInfo.jpg\" width=300>\n",
    "\n",
    "# Laboratoire #8\n",
    "---"
   ]
  },
  {
   "cell_type": "markdown",
   "metadata": {
    "collapsed": true,
    "deletable": false,
    "editable": false,
    "nbgrader": {
     "checksum": "f389e8679ac84a08cbca93d399688d67",
     "grade": false,
     "grade_id": "cell-9fc1028aa78665b1",
     "locked": true,
     "schema_version": 1,
     "solution": false
    }
   },
   "source": [
    "---\n",
    "#### Question #1 (2 points)\n",
    "On veut fusionner deux listes sans doublon à l'aide d'une nouvelle fonction `fusionnerListes(liste1, liste2)`.\n",
    "\n",
    "Considérez qu'il n'y a aucune valeur en double dans chacun des listes fournies.\n",
    "\n",
    "On souhaite retourner une nouvelle liste (fusion des valeurs, sans les doublons).\n",
    "\n",
    "> Les deux listes en paramètre ne sont pas modifiées par cette fonction.\n",
    "\n",
    "Stratégie:\n",
    "- Cloner la première liste; cette nouvelle liste sera placée dans une variable `valeursFusion`.\n",
    "- Pour chaque élément de la 2e liste, \n",
    "    - on valide si l'élément n'est pas présent dans la première liste (pour faire la négation d'une condition, utiliser l'opérateur `not`\n",
    "    - si c'est le cas, on ajouter cet élément visité dans `valeursFusion`\n",
    "\n",
    "Ne pas oublier de retourner `valeursFusion` à la fin de la fonction."
   ]
  },
  {
   "cell_type": "code",
   "execution_count": null,
   "metadata": {},
   "outputs": [],
   "source": [
    "# Exemple d'utilisation du `not`\n",
    "chaine = '123abc'\n",
    "if not chaine.isdigit():\n",
    "    print('ne contient pas uniquement des chiffres')"
   ]
  },
  {
   "cell_type": "code",
   "execution_count": null,
   "metadata": {
    "deletable": false,
    "nbgrader": {
     "checksum": "a8dd604c3922b5afca3182f1bfb87579",
     "grade": false,
     "grade_id": "q1-code",
     "locked": false,
     "schema_version": 1,
     "solution": true
    }
   },
   "outputs": [],
   "source": [
    "def fusionnerListes(liste1, liste2):\n",
    "    if not \n",
    "valeursFusion = liste1\n",
    "raise NotImplementedError"
   ]
  },
  {
   "cell_type": "code",
   "execution_count": null,
   "metadata": {
    "deletable": false,
    "editable": false,
    "nbgrader": {
     "checksum": "44f2740f61cc74261b268034a4680cf9",
     "grade": true,
     "grade_id": "q1-tests",
     "locked": true,
     "points": 2,
     "schema_version": 1,
     "solution": false
    }
   },
   "outputs": [],
   "source": [
    "# Validations\n",
    "assert 'fusionnerListes' in globals(), 'Aucune fonction ne s\\'appelle `fusionnerListes`'\n",
    "import inspect\n",
    "assert len(inspect.signature(fusionnerListes).parameters) == 2, 'La fonction doit avoir deux paramètres'\n",
    "assert list(inspect.signature(fusionnerListes).parameters.keys())[0] == 'liste1', 'Le 1er paramètre doit porter le nom `liste1`'\n",
    "assert list(inspect.signature(fusionnerListes).parameters.keys())[1] == 'liste2', 'Le 2e paramètre doit porter le nom `liste2`'\n",
    "assert fusionnerListes([1,2,3], [4,5,6]) == [1,2,3,4,5,6], 'Fusion #1 en échec'\n",
    "assert fusionnerListes([1,2,3], [1,2,3]) == [1,2,3], 'Fusion #2 en échec'\n",
    "assert fusionnerListes([1,2,3], [0,2,4]) == [1,2,3,0,4], 'Fusion #3 en échec'\n",
    "assert fusionnerListes([1,2,3], []) == [1,2,3], 'Fusion #4 en échec'\n",
    "assert fusionnerListes([], [4,5,6]) == [4,5,6], 'Fusion #5 en échec'"
   ]
  },
  {
   "cell_type": "markdown",
   "metadata": {
    "collapsed": true,
    "deletable": false,
    "editable": false,
    "nbgrader": {
     "checksum": "beb6a9f064c7f0fc2f65e497af7d89fc",
     "grade": false,
     "grade_id": "cell-2b2f135fead87d85",
     "locked": true,
     "schema_version": 1,
     "solution": false
    }
   },
   "source": [
    "---\n",
    "#### Question #2 (2 points)\n",
    "\n",
    "Créer une fonction `calculerMoyenne(notes)` qui retourne la moyenne des notes.\n",
    "\n",
    "Stratégie:\n",
    "- définir une variable local `somme` initialisée à zéro\n",
    "- additionner chaque valeur de la collection `notes`\n",
    "- après le boucle, faites la division avec le nombre de notes dans la collection\n",
    "\n",
    "> Considérez que la collection de notes ne sera jamais vide; il y aura au moins une note."
   ]
  },
  {
   "cell_type": "code",
   "execution_count": null,
   "metadata": {
    "deletable": false,
    "nbgrader": {
     "checksum": "b691b089b9edd3b918bbd21e5027123b",
     "grade": false,
     "grade_id": "q2-code",
     "locked": false,
     "schema_version": 1,
     "solution": true
    }
   },
   "outputs": [],
   "source": [
    "def calculerMoyenne(notes):\n",
    "# your code here\n",
    "raise NotImplementedError"
   ]
  },
  {
   "cell_type": "code",
   "execution_count": null,
   "metadata": {
    "deletable": false,
    "editable": false,
    "nbgrader": {
     "checksum": "1982f5020697cfe104b992cd06c25c78",
     "grade": true,
     "grade_id": "q2-tests",
     "locked": true,
     "points": 2,
     "schema_version": 1,
     "solution": false
    }
   },
   "outputs": [],
   "source": [
    "# Validations\n",
    "assert calculerMoyenne( (10,10,10,10) ) == 10, 'Scores parfaits'\n",
    "assert calculerMoyenne( (10,6,8,10) ) == 8.5, 'Moyenne normale'\n",
    "assert calculerMoyenne( [5] ) == 5, 'Une seule note'\n",
    "assert calculerMoyenne( (1,2,3,4,5,6,7,8,9,10) ) == 5.5, 'Moyenne atypique'"
   ]
  },
  {
   "cell_type": "markdown",
   "metadata": {
    "collapsed": true,
    "deletable": false,
    "editable": false,
    "nbgrader": {
     "checksum": "156c12748d58db11c21a478a5da60c8d",
     "grade": false,
     "grade_id": "q3-enonce",
     "locked": true,
     "schema_version": 1,
     "solution": false
    }
   },
   "source": [
    "---\n",
    "#### Question #3 (2 points)\n",
    "\n",
    "On veut une fonction `compterValeursInf(valeurTemoin, valeurs)` qui compte le nombre d'éléments de la collection qui sont **sous la valeur témoin**.\n",
    "\n",
    "Considérez:\n",
    "- la collection de valeurs peut être vide\n",
    "- il peut n'y avoir aucune valeur de la collection sous la valeur témoin\n",
    "\n",
    "Stratégie:\n",
    "- initialiser le compteur à zéro\n",
    "- chaque valeur visitée sous la valeur témoin incrémente le compteur\n",
    "- on retourne le compteur à la fin de la fonction"
   ]
  },
  {
   "cell_type": "code",
   "execution_count": null,
   "metadata": {
    "deletable": false,
    "nbgrader": {
     "checksum": "b41885b3568d76c0118f093b53a1ab92",
     "grade": false,
     "grade_id": "cell-7e833c5c32d21094",
     "locked": false,
     "schema_version": 1,
     "solution": true
    }
   },
   "outputs": [],
   "source": [
    "def compterValeursInf(valeurTemoin, valeurs):\n",
    "# your code here\n",
    "raise NotImplementedError"
   ]
  },
  {
   "cell_type": "code",
   "execution_count": null,
   "metadata": {
    "deletable": false,
    "editable": false,
    "nbgrader": {
     "checksum": "6933e6fe6a5082f596a239146e0fff15",
     "grade": true,
     "grade_id": "cell-a244182cf521b7c4",
     "locked": true,
     "points": 2,
     "schema_version": 1,
     "solution": false
    }
   },
   "outputs": [],
   "source": [
    "assert compterValeursInf( 6, [10.0, 5.5, 2.0, 9.5, 8.0]) == 2, 'Test #1'\n",
    "assert compterValeursInf( 2, [10.0, 5.5, 2.0, 9.5, 8.0]) == 0, 'Test #2'\n",
    "assert compterValeursInf( 3, [10.0, 5.5, 2.0, 9.5, 8.0]) == 1, 'Test #3'\n",
    "assert compterValeursInf(10, [10.0, 5.5, 2.0, 9.5, 8.0]) == 4, 'Test #4'\n",
    "assert compterValeursInf(99, [10.0, 5.5, 2.0, 9.5, 8.0]) == 5, 'Test #5'\n",
    "assert compterValeursInf(99, []) == 0, 'Test #6'"
   ]
  },
  {
   "cell_type": "markdown",
   "metadata": {
    "collapsed": true,
    "deletable": false,
    "editable": false,
    "nbgrader": {
     "checksum": "8a6d9e1346a4ead301c8f82cde6ea84b",
     "grade": false,
     "grade_id": "cell-76906b0279e0d425",
     "locked": true,
     "schema_version": 1,
     "solution": false
    }
   },
   "source": [
    "---\n",
    "#### Question #4 (2 points)\n",
    "\n",
    "On sait qu'une chaîne peut être décomposée en une collection de lettres avec `list(mot)`.\n",
    "\n",
    "Définir la fonction `decomposerMot(mot)` qui retourne une collection de lettres en ordre alphabétique.\n",
    "\n",
    "Créez une fonction qui retourne une collection de lettres d'un mot, mais ces lettres devront être toutes en minuscule et en ordre alphabétique."
   ]
  },
  {
   "cell_type": "code",
   "execution_count": null,
   "metadata": {
    "deletable": false,
    "nbgrader": {
     "checksum": "83a46f3dfe808eacdbf53ceb178de6e1",
     "grade": false,
     "grade_id": "q4-code",
     "locked": false,
     "schema_version": 1,
     "solution": true
    }
   },
   "outputs": [],
   "source": [
    "def decomposerMot(mot):\n",
    "# your code here\n",
    "raise NotImplementedError"
   ]
  },
  {
   "cell_type": "code",
   "execution_count": null,
   "metadata": {
    "deletable": false,
    "editable": false,
    "nbgrader": {
     "checksum": "c073790acce108ecbc47e009c5b4e82b",
     "grade": true,
     "grade_id": "q4-tests",
     "locked": true,
     "points": 2,
     "schema_version": 1,
     "solution": false
    }
   },
   "outputs": [],
   "source": [
    "# Validations\n",
    "assert decomposerMot('abc') == ['a','b','c'], 'Test #1'\n",
    "assert decomposerMot('') == [], 'Test #2'\n",
    "assert decomposerMot('ABC') == ['a','b','c'], 'Test #3'\n",
    "assert decomposerMot('lune') == ['e','l','n', 'u'], 'Test #4'\n",
    "assert decomposerMot('Marco') == ['a','c','m', 'o', 'r'], 'Test #5'\n",
    "assert decomposerMot('BIBI') == ['b','b','i', 'i'], 'Test #6'"
   ]
  },
  {
   "cell_type": "markdown",
   "metadata": {
    "collapsed": true,
    "deletable": false,
    "editable": false,
    "nbgrader": {
     "checksum": "4ec07184e7ce4d3ed1c2e468401df49c",
     "grade": false,
     "grade_id": "cell-592e49d23af69e7d",
     "locked": true,
     "schema_version": 1,
     "solution": false
    }
   },
   "source": [
    "---\n",
    "#### Question #5 (2 points)\n",
    "\n",
    "On veut une méthode `genererLotsCultivables(nbGraines)` qui génère une collection d'entiers représentant le nombre de graines par lot. \n",
    "\n",
    "Un lot est limité à 10 graines.\n",
    "\n",
    "Si on génère les lots pour 35 graines, on obtiendra:\n",
    "    `[10, 10, 10, 5]`\n",
    "\n",
    "C'est-à-dire trois (3) lots complets et un lot partiel.\n",
    "\n",
    "Stratégie:\n",
    "- Aucune répétition n'est requise pour cette fonction\n",
    "- À l'aide d'une division entière, compter le nombre de lots complets (`nbLotsComplets`)\n",
    "- Le modulo permettra de compter les graines restantes (`nbGrainesRestantes`)\n",
    "- Créer la collection des lots en dupliquant une collection `[10]` du nombre de lots complets\n",
    "- Seulement s'il reste des graines, on ajoute ce chiffre aux lots\n",
    "- Retourner les lots"
   ]
  },
  {
   "cell_type": "code",
   "execution_count": null,
   "metadata": {
    "deletable": false,
    "nbgrader": {
     "checksum": "a343b94abed8f331375db7443d98a319",
     "grade": false,
     "grade_id": "q5-code",
     "locked": false,
     "schema_version": 1,
     "solution": true
    }
   },
   "outputs": [],
   "source": [
    "def genererLotsCultivables(nbGraines):\n",
    "# your code here\n",
    "raise NotImplementedError"
   ]
  },
  {
   "cell_type": "code",
   "execution_count": null,
   "metadata": {
    "deletable": false,
    "editable": false,
    "nbgrader": {
     "checksum": "0d3aa1aea5d8a70f31bbc70560079118",
     "grade": true,
     "grade_id": "q5-tests",
     "locked": true,
     "points": 2,
     "schema_version": 1,
     "solution": false
    }
   },
   "outputs": [],
   "source": [
    "# Validations\n",
    "assert genererLotsCultivables(35) == [10, 10, 10, 5], 'Test #1'\n",
    "assert genererLotsCultivables(18) == [10, 8], 'Test #2'\n",
    "assert genererLotsCultivables(2)  == [2], 'Test #3'\n",
    "assert genererLotsCultivables(50) == [10, 10, 10, 10, 10], 'Test #4'"
   ]
  }
 ],
 "metadata": {
  "kernelspec": {
   "display_name": "Python 3",
   "language": "python",
   "name": "python3"
  },
  "language_info": {
   "codemirror_mode": {
    "name": "ipython",
    "version": 3
   },
   "file_extension": ".py",
   "mimetype": "text/x-python",
   "name": "python",
   "nbconvert_exporter": "python",
   "pygments_lexer": "ipython3",
   "version": "3.5.2"
  }
 },
 "nbformat": 4,
 "nbformat_minor": 2
}
