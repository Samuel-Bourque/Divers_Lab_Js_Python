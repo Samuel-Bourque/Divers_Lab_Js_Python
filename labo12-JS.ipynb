{
 "cells": [
  {
   "cell_type": "markdown",
   "metadata": {},
   "source": [
    "Before you turn this problem in, make sure everything runs as expected. First, **restart the kernel** (in the menubar, select Kernel$\\rightarrow$Restart) and then **run all cells** (in the menubar, select Cell$\\rightarrow$Run All).\n",
    "\n",
    "Make sure you fill in any place that says `YOUR CODE HERE` or \"YOUR ANSWER HERE\", as well as your name and collaborators below:"
   ]
  },
  {
   "cell_type": "code",
   "execution_count": null,
   "metadata": {},
   "outputs": [],
   "source": [
    "NAME = \"Samuel Bourque\"\n",
    "COLLABORATORS = \"...\""
   ]
  },
  {
   "cell_type": "markdown",
   "metadata": {},
   "source": [
    "---"
   ]
  },
  {
   "cell_type": "markdown",
   "metadata": {},
   "source": [
    "###### <img style='margin-right:0' src=\"http://dinfo.ca/logoDptInfo.jpg\" width=300>\n",
    "\n",
    "# Laboratoire #12 (JavaScript)\n",
    "---"
   ]
  },
  {
   "cell_type": "markdown",
   "metadata": {
    "collapsed": true,
    "deletable": false,
    "editable": false,
    "nbgrader": {
     "checksum": "30a6f07144d5afc748c84b6947790a61",
     "grade": false,
     "grade_id": "q5-enonce",
     "locked": true,
     "schema_version": 1,
     "solution": false
    }
   },
   "source": [
    "#### Question #5 (1 point)\n",
    "\n",
    "Vous devez afficher, en utilisant la méthode d'itération `forEach()`, chaque pays du G7 comme suit:\n",
    "\n",
    ">    ________ est membre du G7\n",
    "\n",
    "où le souligné est remplacé par le nom du pays    "
   ]
  },
  {
   "cell_type": "code",
   "execution_count": 61,
   "metadata": {
    "deletable": false,
    "nbgrader": {
     "checksum": "8c6b133c0db0d2a9c479debcf515cde5",
     "grade": true,
     "grade_id": "q5-reponse",
     "locked": false,
     "points": 1,
     "schema_version": 1,
     "solution": true
    }
   },
   "outputs": [
    {
     "name": "stdout",
     "output_type": "stream",
     "text": [
      "États-Unis est membre du G7\n",
      "Japon est membre du G7\n",
      "Allemagne est membre du G7\n",
      "France est membre du G7\n",
      "Royaume-Uni est membre du G7\n",
      "Italie est membre du G7\n",
      "Canada est membre du G7\n"
     ]
    }
   ],
   "source": [
    "var paysG7 = ['États-Unis', 'Japon', 'Allemagne', 'France', 'Royaume-Uni', 'Italie', 'Canada'];\n",
    "paysG7.forEach( (unPaysG7 => {console.log(unPaysG7,\"est membre du G7\")}))"
   ]
  },
  {
   "cell_type": "markdown",
   "metadata": {
    "collapsed": true,
    "deletable": false,
    "editable": false,
    "nbgrader": {
     "checksum": "61737d076a03c819adc99d114c2f857b",
     "grade": false,
     "grade_id": "q6-enonce",
     "locked": true,
     "schema_version": 1,
     "solution": false
    }
   },
   "source": [
    "---\n",
    "#### Question #6 (1 point) -- méthode d'itération `map`\n",
    "\n",
    "Créez une fonction `calculerTaxes(listePrix)` qui reçoit un collection de prix et retourne la taxe calculée pour chacun dans une nouvelle collection.  La collection d'origine n'est pas modifiée par votre méthode.\n",
    "\n",
    "Le calcul doit être arrondi à 2 décimales.  **La collection retournée doit être composée de nombres et non pas de chaînes de caractères**\n",
    "\n",
    "Stratégie:\n",
    "* utiliser une méthode d'itération `map`\n",
    "* pour chaque item visité\n",
    "    * calculer la taxe, faire l'arrondi à 2 décimales et ajouter ce montant (**numérique**) à la nouvelle collection"
   ]
  },
  {
   "cell_type": "code",
   "execution_count": 211,
   "metadata": {
    "deletable": false,
    "nbgrader": {
     "checksum": "6e221186835a5b0ca4c3fee650a1fccc",
     "grade": false,
     "grade_id": "q6-reponse",
     "locked": false,
     "schema_version": 1,
     "solution": true
    }
   },
   "outputs": [],
   "source": [
    "function calculerTaxes(listePrix) {\n",
    "    return listePrix.map((uneTaxe)=>parseFloat(uneTaxe*0.14975).toFixed(2));\n",
    "}"
   ]
  },
  {
   "cell_type": "code",
   "execution_count": 212,
   "metadata": {},
   "outputs": [
    {
     "data": {
      "text/plain": [
       "[ '1.50', '14.97', '7.49', '5.99', '4.49', '3.00' ]"
      ]
     },
     "execution_count": 212,
     "metadata": {},
     "output_type": "execute_result"
    }
   ],
   "source": [
    "calculerTaxes([10.00, 100.00, 50.00, 40.00, 30.00, 20.00]);\n",
    "// Attendu: [1.5, 14.97, 7.49, 5.99, 4.49, 3]"
   ]
  },
  {
   "cell_type": "code",
   "execution_count": 213,
   "metadata": {
    "deletable": false,
    "editable": false,
    "nbgrader": {
     "checksum": "d4d9b3d312c9039b2baf55c482302c43",
     "grade": true,
     "grade_id": "q6-tests",
     "locked": true,
     "points": 1,
     "schema_version": 1,
     "solution": false
    }
   },
   "outputs": [],
   "source": [
    "var assert = require('assert');\n",
    "// Validations\n",
    "assert( calculerTaxes([10.00, 100.00, 50.00, 40.00, 30.00, 20.00]).every( (v,i) => v == [ 1.5, 14.97, 7.49, 5.99, 4.49, 3 ][i]), 'Problème pour les valeurs attendues');"
   ]
  },
  {
   "cell_type": "markdown",
   "metadata": {
    "collapsed": true,
    "deletable": false,
    "editable": false,
    "nbgrader": {
     "checksum": "173127ca44aa4aa01c8632a26215cb38",
     "grade": false,
     "grade_id": "q7-enonce",
     "locked": true,
     "schema_version": 1,
     "solution": false
    }
   },
   "source": [
    "---\n",
    "#### Question #7 (1 point) -- filter\n",
    "\n",
    "Créez une fonction `denombrerElevesPresents(listePresences)` qui compte le nombre d'items qui sont \"présent\".\n",
    "\n",
    "Retourne 0 pour une collection vide ou si tous les élèves sont absents!\n",
    "\n",
    "Stratégie:\n",
    "- à l'aide d'un filtre (méthode d'itération `filter`), extraire les items ayant la valeur `présent`\n",
    "- retourner le nombre d'items extraits"
   ]
  },
  {
   "cell_type": "code",
   "execution_count": 235,
   "metadata": {
    "deletable": false,
    "nbgrader": {
     "checksum": "b19aa882326634f99831e64d128bce77",
     "grade": false,
     "grade_id": "q7-reponse",
     "locked": false,
     "schema_version": 1,
     "solution": true
    }
   },
   "outputs": [],
   "source": [
    "function denombrerElevesPresents(listePresences) {\n",
    "    compteur = 0;\n",
    "    listePresences.filter( (mot) => mot.length > 6 );\n",
    "    return compteur;\n",
    "}"
   ]
  },
  {
   "cell_type": "code",
   "execution_count": 236,
   "metadata": {
    "deletable": false,
    "editable": false,
    "nbgrader": {
     "checksum": "fa58ae3f83581d03bf4aae8b52f70861",
     "grade": false,
     "grade_id": "cell-72e1ad7a710ec37b",
     "locked": true,
     "schema_version": 1,
     "solution": false
    }
   },
   "outputs": [
    {
     "name": "stdout",
     "output_type": "stream",
     "text": [
      "Attendu: 3, réel:  0\n",
      "Attendu: 5, réel:  0\n",
      "Attendu: 0, réel:  0\n",
      "Attendu: 0, réel:  0\n"
     ]
    }
   ],
   "source": [
    "console.log(\"Attendu: 3, réel: \", denombrerElevesPresents([\"présent\", \"absent\", \"absent\", \"présent\", \"présent\"]) );\n",
    "console.log(\"Attendu: 5, réel: \", denombrerElevesPresents([\"présent\", \"présent\", \"présent\", \"présent\", \"présent\"]) );\n",
    "console.log(\"Attendu: 0, réel: \", denombrerElevesPresents([\"absent\", \"absent\", \"absent\", \"absent\", \"absent\"]) );\n",
    "console.log(\"Attendu: 0, réel: \", denombrerElevesPresents([]) );"
   ]
  },
  {
   "cell_type": "code",
   "execution_count": 237,
   "metadata": {
    "deletable": false,
    "editable": false,
    "nbgrader": {
     "checksum": "a73fca60bfd0f75e20b77e9cf4ee0d67",
     "grade": true,
     "grade_id": "q7-tests",
     "locked": true,
     "points": 1,
     "schema_version": 1,
     "solution": false
    }
   },
   "outputs": [
    {
     "ename": "AssertionError",
     "evalue": "false == true",
     "output_type": "error",
     "traceback": [
      "AssertionError: false == true",
      "    at evalmachine.<anonymous>:3:1",
      "    at ContextifyScript.Script.runInThisContext (vm.js:25:33)",
      "    at Object.runInThisContext (vm.js:97:38)",
      "    at run ([eval]:1002:15)",
      "    at onRunRequest ([eval]:829:18)",
      "    at onMessage ([eval]:789:13)",
      "    at emitTwo (events.js:106:13)",
      "    at process.emit (events.js:191:7)",
      "    at process.nextTick (internal/child_process.js:758:12)",
      "    at _combinedTickCallback (internal/process/next_tick.js:73:7)"
     ]
    }
   ],
   "source": [
    "var assert = require('assert');\n",
    "// Validations\n",
    "assert(denombrerElevesPresents([\"présent\", \"absent\", \"absent\", \"présent\", \"présent\"]) == 3 );\n",
    "assert(denombrerElevesPresents([\"présent\", \"présent\", \"présent\", \"présent\", \"présent\"]) == 5 );\n",
    "assert(denombrerElevesPresents([\"absent\", \"absent\", \"absent\", \"absent\", \"absent\"]) == 0);\n",
    "assert(denombrerElevesPresents([]) == 0 );"
   ]
  },
  {
   "cell_type": "markdown",
   "metadata": {
    "collapsed": true,
    "deletable": false,
    "editable": false,
    "nbgrader": {
     "checksum": "5a2d68e4737778c840eb1613d3d795be",
     "grade": false,
     "grade_id": "q8-enonce",
     "locked": true,
     "schema_version": 1,
     "solution": false
    }
   },
   "source": [
    "---\n",
    "#### Question #8 (1 point) -- every\n",
    "\n",
    "Créez une fonction `validerTousPresents(listePresences)` qui retourne vrai si tous les élèves sont présents (aucune absence).\n",
    "\n",
    "Stratégie:\n",
    "- à l'aide de la méthode d'itération `every`, vérifier si l'état est `présent`\n",
    "- retourner le résultat de cette méthode"
   ]
  },
  {
   "cell_type": "code",
   "execution_count": 199,
   "metadata": {
    "deletable": false,
    "nbgrader": {
     "checksum": "99539f5ad2add8fe11b32d79ecc4c7c3",
     "grade": false,
     "grade_id": "q8-reponse",
     "locked": false,
     "schema_version": 1,
     "solution": true
    }
   },
   "outputs": [],
   "source": [
    "function validerTousPresents(listePresences) {\n",
    "    return listePresences.every(\"présent\");\n",
    "}"
   ]
  },
  {
   "cell_type": "code",
   "execution_count": 200,
   "metadata": {
    "deletable": false,
    "editable": false,
    "nbgrader": {
     "checksum": "251bb6b7183454d3e0254ac130cd9bdf",
     "grade": true,
     "grade_id": "q8-validation",
     "locked": true,
     "points": 1,
     "schema_version": 1,
     "solution": false
    }
   },
   "outputs": [
    {
     "ename": "TypeError",
     "evalue": "présent is not a function",
     "output_type": "error",
     "traceback": [
      "TypeError: présent is not a function",
      "    at Array.every (native)",
      "    at validerTousPresents (evalmachine.<anonymous>:2:27)",
      "    at evalmachine.<anonymous>:3:9",
      "    at ContextifyScript.Script.runInThisContext (vm.js:25:33)",
      "    at Object.runInThisContext (vm.js:97:38)",
      "    at run ([eval]:1002:15)",
      "    at onRunRequest ([eval]:829:18)",
      "    at onMessage ([eval]:789:13)",
      "    at emitTwo (events.js:106:13)",
      "    at process.emit (events.js:191:7)"
     ]
    }
   ],
   "source": [
    "var assert = require('assert');\n",
    "// Validations\n",
    "assert(!validerTousPresents([\"présent\", \"absent\", \"absent\", \"présent\", \"présent\"]), 'Trois élèves présents sur cinq');\n",
    "assert(validerTousPresents([\"présent\", \"présent\", \"présent\", \"présent\", \"présent\"]), 'Tous les élèves sont présents');\n",
    "assert(!validerTousPresents([\"absent\", \"absent\", \"absent\", \"absent\", \"absent\"]), 'Aucun élève présent si tous absents');"
   ]
  },
  {
   "cell_type": "markdown",
   "metadata": {
    "deletable": false,
    "editable": false,
    "nbgrader": {
     "checksum": "576c4fc9f59a0ca09b05adc53ae1c59b",
     "grade": false,
     "grade_id": "q9-enonce",
     "locked": true,
     "schema_version": 1,
     "solution": false
    }
   },
   "source": [
    "---\n",
    "#### Question #9 (1 point)\n",
    "\n",
    "On veut une fonction `compterValeursInf(valeurTemoin, valeurs)` qui compte le nombre d'éléments de la collection qui sont **sous la valeur témoin**.\n",
    "\n",
    "Considérez:\n",
    "- la collection de valeurs peut être vide\n",
    "- il peut n'y avoir aucune valeur de la collection sous la valeur témoin\n",
    "\n",
    "Stratégie:\n",
    "- utiliser une méthode `filter` pour extraire la liste des valeurs inférieures à la valeur témoin\n",
    "- retourner la longueur de cette liste extraite"
   ]
  },
  {
   "cell_type": "code",
   "execution_count": 193,
   "metadata": {
    "deletable": false,
    "nbgrader": {
     "checksum": "2a6481a31f906f719b2de1de2c8ee2d7",
     "grade": false,
     "grade_id": "q9-reponse",
     "locked": false,
     "schema_version": 1,
     "solution": true
    }
   },
   "outputs": [],
   "source": [
    "function compterValeursInf(valeurTemoin, valeurs) {\n",
    "    valeurTémoin.filter(valeurTémoin > valeurs);\n",
    "    return len(valeurTémoin < valeur)\n",
    "}"
   ]
  },
  {
   "cell_type": "code",
   "execution_count": 194,
   "metadata": {
    "deletable": false,
    "editable": false,
    "nbgrader": {
     "checksum": "fe7e85d8f14dda2a48f65c184c04fc0a",
     "grade": true,
     "grade_id": "q9-validation",
     "locked": true,
     "points": 1,
     "schema_version": 1,
     "solution": false
    }
   },
   "outputs": [
    {
     "ename": "ReferenceError",
     "evalue": "valeurTémoin is not defined",
     "output_type": "error",
     "traceback": [
      "ReferenceError: valeurTémoin is not defined",
      "    at compterValeursInf (evalmachine.<anonymous>:2:5)",
      "    at evalmachine.<anonymous>:2:8",
      "    at ContextifyScript.Script.runInThisContext (vm.js:25:33)",
      "    at Object.runInThisContext (vm.js:97:38)",
      "    at run ([eval]:1002:15)",
      "    at onRunRequest ([eval]:829:18)",
      "    at onMessage ([eval]:789:13)",
      "    at emitTwo (events.js:106:13)",
      "    at process.emit (events.js:191:7)",
      "    at process.nextTick (internal/child_process.js:758:12)"
     ]
    }
   ],
   "source": [
    "var assert = require('assert');\n",
    "assert(compterValeursInf( 6, [10.0, 5.5, 2.0, 9.5, 8.0]) === 2, 'Test #1');\n",
    "assert(compterValeursInf( 2, [10.0, 5.5, 2.0, 9.5, 8.0]) === 0, 'Test #2');\n",
    "assert(compterValeursInf( 3, [10.0, 5.5, 2.0, 9.5, 8.0]) === 1, 'Test #3');\n",
    "assert(compterValeursInf(10, [10.0, 5.5, 2.0, 9.5, 8.0]) === 4, 'Test #4');\n",
    "assert(compterValeursInf(99, [10.0, 5.5, 2.0, 9.5, 8.0]) === 5, 'Test #5');\n",
    "assert(compterValeursInf(99, []) === 0, 'Test #6');"
   ]
  },
  {
   "cell_type": "markdown",
   "metadata": {
    "deletable": false,
    "editable": false,
    "nbgrader": {
     "checksum": "4ae1dce3f56dfcab96d2320f96a1d714",
     "grade": false,
     "grade_id": "q10-enonce",
     "locked": true,
     "schema_version": 1,
     "solution": false
    }
   },
   "source": [
    "---\n",
    "#### Question #10 (1 point)\n",
    "\n",
    "Pour une collection ordonnée nommée `tableauPeriodique` dont chaque item est une collection ordonnée (indice 0: nom, indice 1 : symbole, indice 2: noAtomique et indice: 3 masseAtomique), vous devez rechercher l'array décrivant l'atome pour le nom 'Carbone' à l'aide de la méthode `find`.  Placez le résultat dans une variable nommée `atomeCarbone`.\n",
    "\n",
    "| nom       | symbole | noAtomique | masseAtomique |\n",
    "|-----------|---------|------------|---------------|\n",
    "| Hydrogène | H       | 1          | 1.008         |\n",
    "| Hélium    | He      | 2          | 4.003         |\n",
    "| Carbone   | C       | 6          | 12.000        |\n",
    "| Azote     | N       | 7          | 14.000        |\n",
    "| Oxygène   | O       | 8          | 16.000        |"
   ]
  },
  {
   "cell_type": "code",
   "execution_count": null,
   "metadata": {
    "deletable": false,
    "nbgrader": {
     "checksum": "0b9c15edd0701c3b3749ad89e6a0f3ef",
     "grade": false,
     "grade_id": "q10-reponse",
     "locked": false,
     "schema_version": 1,
     "solution": true
    }
   },
   "outputs": [],
   "source": [
    "tableauPeriodique = [\n",
    "    ['Hydrogène', 'H',  1, 1.008],\n",
    "    ['Hélium',    'He', 2, 4.003],\n",
    "    ['Carbone',   'C',  6, 12.000],\n",
    "    ['Azote',     'N',  7, 14.000],\n",
    "    ['Oxygène',   'O',  8, 16.000]\n",
    "]\n",
    "\n",
    "var atomeCarbone = "
   ]
  },
  {
   "cell_type": "code",
   "execution_count": null,
   "metadata": {},
   "outputs": [],
   "source": [
    "var fluctuations = [50, 60, 55, 58, 52, 70, 80, 48];\n",
    "function estFluctuation(mesure) {\n",
    "    return mesure < 50 || mesure > 60;\n",
    "}\n",
    "console.log('Indice première fluctuation:', fluctuations.findIndex(estFluctuation));"
   ]
  },
  {
   "cell_type": "code",
   "execution_count": null,
   "metadata": {
    "deletable": false,
    "editable": false,
    "nbgrader": {
     "checksum": "3b69779613358f6094dad6437f7161e7",
     "grade": true,
     "grade_id": "q10-validation",
     "locked": true,
     "points": 1,
     "schema_version": 1,
     "solution": false
    }
   },
   "outputs": [],
   "source": [
    "var assert = require('assert');\n",
    "assert(atomeCarbone != undefined, \"Pas trouvé d'atome: undefined\");\n",
    "assert(atomeCarbone[0] === 'Carbone', \"Mauvais nom pour l'atome\");\n",
    "assert(atomeCarbone[1] === 'C', \"Mauvais symbole\");\n",
    "assert(atomeCarbone[2] === 6, \"Mauvais numéro atomique\");\n",
    "assert(atomeCarbone[3] === 12.0, \"Mauvaise masse atomique\");"
   ]
  }
 ],
 "metadata": {
  "kernelspec": {
   "display_name": "Javascript (Node.js)",
   "language": "javascript",
   "name": "javascript"
  },
  "language_info": {
   "file_extension": ".js",
   "mimetype": "application/javascript",
   "name": "javascript",
   "version": "6.11.0"
  }
 },
 "nbformat": 4,
 "nbformat_minor": 2
}
